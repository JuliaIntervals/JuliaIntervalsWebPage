{
 "cells": [
  {
   "cell_type": "markdown",
   "source": [
    "Polyhedral approximations with LazySets"
   ],
   "metadata": {}
  },
  {
   "cell_type": "markdown",
   "source": [
    "In the [IntervalConstraintProgramming](/pages/tutorials/tutorialConstraintProgramming)\n",
    "tutorial we saw how to solve the *set inversion* problem, i.e. how to find the region in\n",
    "$\\mathbb{R}^n$ that satisfies a set of constraints."
   ],
   "metadata": {}
  },
  {
   "cell_type": "markdown",
   "source": [
    "Interval constraint programming uses interval boxes. However, if the region we want to approximate\n",
    "is not box-shaped, it will require a large number of boxes to be represented accurately.\n",
    "To operate with those regions, it is practical to simplify such union of boxeswith another set representation,\n",
    "hopefully without information loss, i.e. minimizing the *overapproximation error*."
   ],
   "metadata": {}
  },
  {
   "cell_type": "markdown",
   "source": [
    "The package \\elink{LazySets.jl}{https://github.com/JuliaReach/LazySets.jl/} can be used to approximate regions\n",
    "returned by `IntervalConstraintProgramming.jl` using general set types such as\n",
    "\\elink{polyhedra}{https://en.wikipedia.org/wiki/Polyhedron}, that is, finite intersections of half-spaces. More generally,\n",
    "unions of polyhedra could be used."
   ],
   "metadata": {}
  },
  {
   "cell_type": "markdown",
   "source": [
    "First let us import the packages we need"
   ],
   "metadata": {}
  },
  {
   "outputs": [],
   "cell_type": "code",
   "source": [
    "using IntervalArithmetic, IntervalConstraintProgramming, LazySets, Plots"
   ],
   "metadata": {},
   "execution_count": null
  },
  {
   "cell_type": "markdown",
   "source": [
    "The overapproximation of a paving using a polyhedron in constraint representation\n",
    "(\\elink{HPolyhedron}{https://juliareach.github.io/LazySets.jl/dev/lib/sets/HPolyhedron/}) with constraints in\n",
    "the given directions `dirs` can be computed with the `overapproximate(::Paving, dirs::AbstractDirections)`\n",
    "function as illustrated below."
   ],
   "metadata": {}
  },
  {
   "outputs": [],
   "cell_type": "code",
   "source": [
    "S = @constraint x^2+y^2 + 3*sin(x) + 5*sin(y) <= 1.0\n",
    "\n",
    "X = IntervalBox(-10..10, 2) # our starting box\n",
    "paving = pave(S, X, 0.02)"
   ],
   "metadata": {},
   "execution_count": null
  },
  {
   "cell_type": "markdown",
   "source": [
    "choose octagon directions"
   ],
   "metadata": {}
  },
  {
   "outputs": [],
   "cell_type": "code",
   "source": [
    "Xoct = overapproximate(paving, OctDirections(2))\n",
    "\n",
    "plot(Xoct, lab=\"Octagon\", alpha=.5, c=:orange)\n",
    "plot!(paving.inner, c=\"green\", aspect_ratio=:equal, label=\"inner\")\n",
    "plot!(paving.boundary, c=\"gray\", label=\"boundary\")"
   ],
   "metadata": {},
   "execution_count": null
  },
  {
   "cell_type": "markdown",
   "source": [
    "The function `overapproximate` considers the union of the elements in the boundary of the paving\n",
    "and then computes the support function of the such union along each chosen direction,\n",
    "obtaining the corresponding polyhedron in constraint form.\n",
    "In this example we have picked octagonal directions, but specifying custom directions is also possible."
   ],
   "metadata": {}
  },
  {
   "cell_type": "markdown",
   "source": [
    "It is interesting to note that the numer of boxes is much larger than the number of constraints of the approximation:"
   ],
   "metadata": {}
  },
  {
   "outputs": [],
   "cell_type": "code",
   "source": [
    "length(paving.inner) + length(paving.boundary)"
   ],
   "metadata": {},
   "execution_count": null
  },
  {
   "outputs": [],
   "cell_type": "code",
   "source": [
    "length(Xoct.constraints)"
   ],
   "metadata": {},
   "execution_count": null
  },
  {
   "cell_type": "markdown",
   "source": [
    "When no directions are known a priori, we can also overapproximate using an iterative refinement process of\n",
    "the given tolerance $\\varepsilon$. First we construct $Y$, the (lazy, exact) convex hull of the paving's boundary,\n",
    "then we overapproximate it using polygons:"
   ],
   "metadata": {}
  },
  {
   "outputs": [],
   "cell_type": "code",
   "source": [
    "Y = ConvexHullArray(convert.(Hyperrectangle,paving.boundary))\n",
    "Xpoly = overapproximate(Y, 0.1)\n",
    "@show length(Xpoly.constraints)\n",
    "\n",
    "Xpoly′ = overapproximate(Y, 0.01)\n",
    "@show length(Xpoly′.constraints)\n",
    "\n",
    "plot(Xoct, lab=\"Octagon\", alpha=.5, c=:orange, legend=:bottomright)\n",
    "\n",
    "plot!(Xpoly, lab=\"Polygon, ε=0.1\")\n",
    "plot!(Xpoly′, lab=\"Polygon, ε=0.01\")\n",
    "\n",
    "plot!(paving.boundary, lab=\"Paving (boundary)\", c=:lightblue)\n",
    "plot!(paving.inner, lab=\"Paving (inner)\", c=:yellow)\n",
    "\n",
    "lens!([0.0, 0.3], [0.0, 0.3], inset = (1, bbox(0.25, 0.35, 0.4, 0.4)))"
   ],
   "metadata": {},
   "execution_count": null
  },
  {
   "cell_type": "markdown",
   "source": [
    "---\n",
    "\n",
    "*This notebook was generated using [Literate.jl](https://github.com/fredrikekre/Literate.jl).*"
   ],
   "metadata": {}
  }
 ],
 "nbformat_minor": 3,
 "metadata": {
  "language_info": {
   "file_extension": ".jl",
   "mimetype": "application/julia",
   "name": "julia",
   "version": "1.5.0"
  },
  "kernelspec": {
   "name": "julia-1.5",
   "display_name": "Julia 1.5.0",
   "language": "julia"
  }
 },
 "nbformat": 4
}
