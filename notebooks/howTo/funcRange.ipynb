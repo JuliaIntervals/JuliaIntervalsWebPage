{
 "cells": [
  {
   "cell_type": "markdown",
   "source": [
    "# Rigorous computation of function range"
   ],
   "metadata": {}
  },
  {
   "cell_type": "markdown",
   "source": [
    "## Introduction"
   ],
   "metadata": {}
  },
  {
   "cell_type": "markdown",
   "source": [
    "The range of a function $f$ is defined as the set $f(X) = \\{f(x) | x\\in X\\}$, where $X$ is the domain of the function.\n",
    "This tutorial will show how to to exploit interval arithmetic to give a rigorous estimate of the function range."
   ],
   "metadata": {}
  },
  {
   "cell_type": "markdown",
   "source": [
    "First, let's import all the packages we need"
   ],
   "metadata": {}
  },
  {
   "outputs": [],
   "cell_type": "code",
   "source": [
    "using IntervalArithmetic, Plots"
   ],
   "metadata": {},
   "execution_count": null
  },
  {
   "cell_type": "markdown",
   "source": [
    "## A first example"
   ],
   "metadata": {}
  },
  {
   "cell_type": "markdown",
   "source": [
    "To begin with, let us compute the range of the function $f(x)=x^2+2x$ over the interval $X=[-5, 5]$."
   ],
   "metadata": {}
  },
  {
   "outputs": [],
   "cell_type": "code",
   "source": [
    "f(x) = x^2+2x\n",
    "X = -5..5\n",
    "\n",
    "@show range_1_interval = f(X)\n",
    "\n",
    "plot(f, -5, 5, leg=false)\n",
    "plot!(IntervalBox(X, f(X)))"
   ],
   "metadata": {},
   "execution_count": null
  },
  {
   "cell_type": "markdown",
   "source": [
    "As can be noticed, in this case we overestimate the range of the function. This is a common issue in interval\n",
    "arithmetic and it is known as *dependency problem*. If a variable is present more than once in the expression,\n",
    "then evaluating the function over an interval will produce  larger interval.\n",
    "For this simple function, the problem can be solved with simple algebraic manipulation observing that\n",
    "$$\n",
    "x^2+2x=x^2+2x+1-1=(x+1)^2-1\n",
    "$$"
   ],
   "metadata": {}
  },
  {
   "cell_type": "markdown",
   "source": [
    "The variable $x$ is now present only once and no overestimation occurs, as the following code confirms"
   ],
   "metadata": {}
  },
  {
   "outputs": [],
   "cell_type": "code",
   "source": [
    "f1(x) = (x+1)^2-1\n",
    "@show range_f = f1(X)\n",
    "\n",
    "plot(f1, -5, 5, leg=false)\n",
    "plot!(IntervalBox(X, f1(X)))"
   ],
   "metadata": {},
   "execution_count": null
  },
  {
   "cell_type": "markdown",
   "source": [
    "Despite for this simple example we could analytically solve the dependency problem, this is not possible in general.\n",
    "The strategy to reduce overestimation is *divide and conquer*. The domain is divided into smaller intervals and the function is evaluated\n",
    "at each interval. The process of partitioning the interval into smaller piecing is called \"mincing\" and `IntervalArithmetic` offers the function\n",
    "`mince(X, N)` to partition the interval $X$ into $N$ intervals. This function returns an array of intervals. For example using 10 intervals"
   ],
   "metadata": {}
  },
  {
   "outputs": [],
   "cell_type": "code",
   "source": [
    "Xs = mince(X, 10)\n",
    "Y = f.(Xs)\n",
    "plot(f, -5, 5, leg=false)\n",
    "plot!(IntervalBox.(Xs, f.(Xs)))"
   ],
   "metadata": {},
   "execution_count": null
  },
  {
   "cell_type": "markdown",
   "source": [
    "Assuming the function $f$ is continuous, we can now compute the function range by taking the union of the computed intervals. This can be done using the function `reduce`"
   ],
   "metadata": {}
  },
  {
   "outputs": [],
   "cell_type": "code",
   "source": [
    "range_10_intervals = reduce(∪, Y)\n",
    "overestimate_1_interval = (diam(range_1_interval)-diam(range_f))/diam(range_f)\n",
    "overestimate_10_intervals = (diam(range_10_intervals)-diam(range_f))/diam(range_f)\n",
    "@show overestimate_1_interval, overestimate_10_intervals"
   ],
   "metadata": {},
   "execution_count": null
  },
  {
   "cell_type": "markdown",
   "source": [
    "Observe that increasing the number of intervals from 1 to 10 reduced the relative error from 25% to 5.5%.\n",
    "The following animation shows how the range approximation improves doubling the number of intervals at each iteration."
   ],
   "metadata": {}
  },
  {
   "outputs": [],
   "cell_type": "code",
   "source": [
    "anim = @animate for i in 0:10\n",
    "    Xs = mince(X, 2^i)\n",
    "    plot(f, -5, 5, leg=false, ylims=(-5, 40), xlims=(X.lo, X.hi), lw=2)\n",
    "    plot!(IntervalBox.(Xs, f.(Xs)))\n",
    "end\n",
    "gif(anim, \"range1.gif\", fps=2)"
   ],
   "metadata": {},
   "execution_count": null
  },
  {
   "cell_type": "markdown",
   "source": [
    "We are now ready to write our function `range(f, X, tol)` which estimates the range of a function $f$ over an interval $X$.\n",
    "The function will take a third parameter an error tolerance `tol` and keep increasing the number of intervals until the relative change will become smaller than `tol`."
   ],
   "metadata": {}
  },
  {
   "outputs": [],
   "cell_type": "code",
   "source": [
    "function range(f, X, N, tol=0.01)\n",
    "\n",
    "    Xs = mince(X, N)\n",
    "    Ynext = f.(Xs)\n",
    "    Ynext = reduce(∪, Ynext)\n",
    "    err = tol+1\n",
    "\n",
    "    while err > tol\n",
    "        Yprev = Ynext\n",
    "        N *= 2\n",
    "        Xs = mince(X, N)\n",
    "        Ynext = f.(Xs)\n",
    "        Ynext = reduce(∪, Ynext)\n",
    "        err = (diam(Yprev) - diam(Ynext))/diam(Yprev)\n",
    "    end\n",
    "\n",
    "    return (Ynext, N, err)\n",
    "end"
   ],
   "metadata": {},
   "execution_count": null
  },
  {
   "cell_type": "markdown",
   "source": [
    "Now we are ready to compute the range of our function"
   ],
   "metadata": {}
  },
  {
   "outputs": [],
   "cell_type": "code",
   "source": [
    "Y, N, err = range(f, X, 3)\n",
    "@show (Y, N, err)\n",
    "plot(f, -5, 5, legend=false)\n",
    "plot!(IntervalBox(X, Y))"
   ],
   "metadata": {},
   "execution_count": null
  },
  {
   "cell_type": "markdown",
   "source": [
    "## A more challenging example (1D)"
   ],
   "metadata": {}
  },
  {
   "cell_type": "markdown",
   "source": [
    "Now that we have developed our tool to estimate a function range, we are ready to test it with more challenging functions.\n",
    "Let's estimate the range of the function $g(x) = -\\sum_{k=1}^5kx\\sin\\left(\\frac{k(x-3)}{3}\\right)$ over the interval $X=[-10,10]$."
   ],
   "metadata": {}
  },
  {
   "outputs": [],
   "cell_type": "code",
   "source": [
    "X = -10..10\n",
    "\n",
    "g(x) = -sum([k*x*sin(k*(x-3)/3) for k in 1:5])\n",
    "\n",
    "Y, N, err = range(g, X, 3)\n",
    "@show (Y, N, err)\n",
    "plot(g, -10, 10, legend=false)\n",
    "plot!(IntervalBox(X, Y))\n",
    "\n",
    "\n",
    "anim = @animate for i in 2 .^(0:10)\n",
    "    Xs = mince(X, i)\n",
    "    plot(g, -10, 10, leg=false, xlims=(X.lo, X.hi), ylims=(-60, 50), lw=2)\n",
    "    plot!(IntervalBox.(Xs, g.(Xs)))\n",
    "end\n",
    "gif(anim, \"anim_range2.gif\", fps = 2)"
   ],
   "metadata": {},
   "execution_count": null
  },
  {
   "cell_type": "markdown",
   "source": [
    "---\n",
    "\n",
    "*This notebook was generated using [Literate.jl](https://github.com/fredrikekre/Literate.jl).*"
   ],
   "metadata": {}
  }
 ],
 "nbformat_minor": 3,
 "metadata": {
  "language_info": {
   "file_extension": ".jl",
   "mimetype": "application/julia",
   "name": "julia",
   "version": "1.5.0"
  },
  "kernelspec": {
   "name": "julia-1.5",
   "display_name": "Julia 1.5.0",
   "language": "julia"
  }
 },
 "nbformat": 4
}
