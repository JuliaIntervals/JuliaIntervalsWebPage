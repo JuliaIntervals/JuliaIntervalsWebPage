{
 "cells": [
  {
   "cell_type": "markdown",
   "source": [
    "Rigorous approximation of $\\pi$"
   ],
   "metadata": {}
  },
  {
   "cell_type": "markdown",
   "source": [
    "## Introduction"
   ],
   "metadata": {}
  },
  {
   "cell_type": "markdown",
   "source": [
    "Following the book Validated Numerics (Princeton, 2011) by Warwick Tucker, we find *rigorous* (i.e., guaranteed, or validated) bounds on $\\pi$ using interval arithmetic, via the `IntervalArithmetic.jl` package.\n",
    "First, let's import the package"
   ],
   "metadata": {}
  },
  {
   "outputs": [],
   "cell_type": "code",
   "source": [
    "using IntervalArithmetic"
   ],
   "metadata": {},
   "execution_count": null
  },
  {
   "cell_type": "markdown",
   "source": [
    "## Calculating $\\pi$ via a simple sum"
   ],
   "metadata": {}
  },
  {
   "cell_type": "markdown",
   "source": [
    "There are many ways to calculate $\\pi$. For illustrative purposes, we will use the following sum"
   ],
   "metadata": {}
  },
  {
   "cell_type": "markdown",
   "source": [
    "$$ S = \\sum_{n=1}^\\infty \\frac{1}{n^2}.$$\n",
    "It is [known](https://en.wikipedia.org/wiki/Basel_problem) that the exact value is $S = \\frac{\\pi^2}{6}$. Thus, if we can calculate rigorous bounds on $S$, then we can find rigorous bounds on $\\pi$."
   ],
   "metadata": {}
  },
  {
   "cell_type": "markdown",
   "source": [
    "The idea is to split $S$ up into two parts, $S = S_N + T_N$, with $ S_N = \\sum_{n=1}^N \\frac{1}{n^2}$ and $T_N = S - S_N = \\sum_{n=N+1}^\\infty n^{-2}$."
   ],
   "metadata": {}
  },
  {
   "cell_type": "markdown",
   "source": [
    "By bounding $T_N$ using integrals from below and above, we can see that $\\frac{1}{N+1} \\le T_N \\le \\frac{1}{N}$. Rigorous bounds on $S_N$ are found by calculating it using interval arithmetic."
   ],
   "metadata": {}
  },
  {
   "cell_type": "markdown",
   "source": [
    "$S_N$ may be calculated by summing either forwards or backwards. A naive (non-interval) version could be the following:"
   ],
   "metadata": {}
  },
  {
   "outputs": [],
   "cell_type": "code",
   "source": [
    "function forward_sum_naive(N)\n",
    "    S_N = 0.0\n",
    "\n",
    "    for i in 1:N\n",
    "        S_N += 1. / (i^2)\n",
    "    end\n",
    "\n",
    "    S_N\n",
    "end\n",
    "\n",
    "S = forward_sum_naive(10000)\n",
    "err = abs(S - pi^2/6.)  # error\n",
    "@show S, err"
   ],
   "metadata": {},
   "execution_count": null
  },
  {
   "cell_type": "markdown",
   "source": [
    "## Interval method"
   ],
   "metadata": {}
  },
  {
   "cell_type": "markdown",
   "source": [
    "To find rigorous bounds for $S_N$, we use interval arithmetic: each term is enclosed in an interval that is guaranteed to contain the true real value. A first idea is simply to wrap each term in the @interval macro, which converts its arguments into containing intervals:"
   ],
   "metadata": {}
  },
  {
   "outputs": [],
   "cell_type": "code",
   "source": [
    "function forward_S_N(N)\n",
    "    S_N = @interval(0.0)\n",
    "\n",
    "    for i in 1:N\n",
    "        S_N += @interval( 1. /(i^2) )\n",
    "    end\n",
    "    S_N\n",
    "end\n",
    "\n",
    "N = 10^5\n",
    "@time rigorous_approx_S_N = forward_S_N(N)"
   ],
   "metadata": {},
   "execution_count": null
  },
  {
   "cell_type": "markdown",
   "source": [
    "We incorporate the respective bound on $T_N$ to obtain the bounds on $S$, and hence on $\\pi$. We can also optimize the code by creating the interval `@interval(1)` only once:"
   ],
   "metadata": {}
  },
  {
   "outputs": [],
   "cell_type": "code",
   "source": [
    "function forward_sum(N)\n",
    "    S_N = @interval(0.0)\n",
    "    interval_one = @interval(1.)\n",
    "\n",
    "    for i in 1:N\n",
    "        S_N += interval_one / (i^2)\n",
    "    end\n",
    "\n",
    "    T_N = interval_one / @interval(N, N+1)\n",
    "    S = S_N + T_N\n",
    "\n",
    "    sqrt(6*S)\n",
    "end\n",
    "\n",
    "N = 10^6\n",
    "@time S = forward_sum(N)\n",
    "@show S, diam(S)"
   ],
   "metadata": {},
   "execution_count": null
  },
  {
   "cell_type": "markdown",
   "source": [
    "We can ask for the midpoint--radius representation, which shows that the calculated bounds are correct to around 10 decimal places:"
   ],
   "metadata": {}
  },
  {
   "outputs": [],
   "cell_type": "code",
   "source": [
    "midpoint_radius(S)"
   ],
   "metadata": {},
   "execution_count": null
  },
  {
   "cell_type": "markdown",
   "source": [
    "We may check that the true value of $\\pi$ is indeed contained in the interval:"
   ],
   "metadata": {}
  },
  {
   "outputs": [],
   "cell_type": "code",
   "source": [
    "big(π) ∈ S"
   ],
   "metadata": {},
   "execution_count": null
  },
  {
   "cell_type": "markdown",
   "source": [
    "We may repeat the calculation, but now summing in the opposite direction. Due to the way that floating-point arithmetic works, this gives a more accurate answer."
   ],
   "metadata": {}
  },
  {
   "outputs": [],
   "cell_type": "code",
   "source": [
    "function reverse_sum(N)\n",
    "    S_N = @interval(0.0)\n",
    "    interval_one = @interval(1.)\n",
    "\n",
    "    for i in N:-1:1\n",
    "        S_N += interval_one / (i^2)\n",
    "    end\n",
    "\n",
    "    T_N = interval_one / @interval(N, N+1)\n",
    "    S = S_N + T_N\n",
    "\n",
    "    sqrt(6*S)\n",
    "end\n",
    "\n",
    "N = 10^6\n",
    "@time S = reverse_sum(N)\n",
    "@show S, diam(S)"
   ],
   "metadata": {},
   "execution_count": null
  },
  {
   "cell_type": "markdown",
   "source": [
    "Note that the sqrt function is guaranteed (by the [IEEE 754](https://en.wikipedia.org/wiki/IEEE_754) standard) to give correctly-rounded results, so the resulting bounds on $\\pi$ are guaranteed to be correct.\n",
    "\n",
    "Note also that due to the way that the IntervalArithmetic package works, we can make the code simpler, at the expense of some performance. Only two explicit calls to the `@interval` macro are now required:"
   ],
   "metadata": {}
  },
  {
   "outputs": [],
   "cell_type": "code",
   "source": [
    "function reverse_sum2(N)\n",
    "    S_N = @interval(0.0)\n",
    "\n",
    "    for i in N:-1:1\n",
    "        S_N += 1 / (i^2)\n",
    "    end\n",
    "\n",
    "    T_N = 1 / @interval(N, N+1)\n",
    "    S = S_N + T_N\n",
    "\n",
    "    sqrt(6*S)\n",
    "end\n",
    "\n",
    "N = 10^6\n",
    "@time S = reverse_sum2(N)\n",
    "@show S, diam(S)"
   ],
   "metadata": {},
   "execution_count": null
  },
  {
   "cell_type": "markdown",
   "source": [
    "---\n",
    "\n",
    "*This notebook was generated using [Literate.jl](https://github.com/fredrikekre/Literate.jl).*"
   ],
   "metadata": {}
  }
 ],
 "nbformat_minor": 3,
 "metadata": {
  "language_info": {
   "file_extension": ".jl",
   "mimetype": "application/julia",
   "name": "julia",
   "version": "1.5.0"
  },
  "kernelspec": {
   "name": "julia-1.5",
   "display_name": "Julia 1.5.0",
   "language": "julia"
  }
 },
 "nbformat": 4
}
