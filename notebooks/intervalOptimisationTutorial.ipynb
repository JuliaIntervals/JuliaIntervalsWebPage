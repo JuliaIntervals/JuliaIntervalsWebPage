{
 "cells": [
  {
   "cell_type": "markdown",
   "source": [
    "# Interal Optimisation Tutorial"
   ],
   "metadata": {}
  },
  {
   "cell_type": "markdown",
   "source": [
    "## Setup"
   ],
   "metadata": {}
  },
  {
   "cell_type": "markdown",
   "source": [
    "The `IntervalOptimisation.jl` package can be installed with"
   ],
   "metadata": {}
  },
  {
   "outputs": [
    {
     "name": "stdout",
     "output_type": "stream",
     "text": [
      "   Updating registry at `C:\\Users\\lucaa\\.julia\\registries\\General`\n",
      "   Updating git-repo `https://github.com/JuliaRegistries/General.git`\n",
      "\u001b[?25l\u001b[2K\u001b[?25h  Resolving package versions...\n",
      "   Updating `C:\\Users\\lucaa\\.julia\\environments\\v1.4\\Project.toml`\n",
      " [no changes]\n",
      "   Updating `C:\\Users\\lucaa\\.julia\\environments\\v1.4\\Manifest.toml`\n",
      " [no changes]\n"
     ]
    }
   ],
   "cell_type": "code",
   "source": [
    "using Pkg; Pkg.add(\"IntervalOptimisation\")"
   ],
   "metadata": {},
   "execution_count": 1
  },
  {
   "cell_type": "markdown",
   "source": [
    "Once the package is installed, it can be imported. Note that you will need also the `IntervalArithmetic.jl` package."
   ],
   "metadata": {}
  },
  {
   "outputs": [],
   "cell_type": "code",
   "source": [
    "using IntervalArithmetic, IntervalOptimisation"
   ],
   "metadata": {},
   "execution_count": 2
  },
  {
   "cell_type": "markdown",
   "source": [
    "## Function Minimisation"
   ],
   "metadata": {}
  },
  {
   "cell_type": "markdown",
   "source": [
    "The package two main functions are `minimise` and `maximise`. Here we will use `minimise` as example, however `maximise` behaves in an analog way.\n",
    "The main syntax is\n",
    "```\n",
    "minimise(f, X, tol=1e-3),\n",
    "```"
   ],
   "metadata": {}
  },
  {
   "cell_type": "markdown",
   "source": [
    "where $f:\\R^n↦\\R$ is the function to minimize, $X$ is the interval, or interval box, over which we minimize the function.\n",
    "For example, let's consider the function $f(x)=(x-3)^2$ and let us find its global minimum over its whole domain"
   ],
   "metadata": {}
  },
  {
   "outputs": [
    {
     "output_type": "execute_result",
     "data": {
      "text/plain": "([0, 7.39292e-09], IntervalArithmetic.Interval{Float64}[[2.99964, 3.00019]])"
     },
     "metadata": {},
     "execution_count": 3
    }
   ],
   "cell_type": "code",
   "source": [
    "minimise(x->(x-3)^2, -∞..∞)"
   ],
   "metadata": {},
   "execution_count": 3
  },
  {
   "cell_type": "markdown",
   "source": [
    "The first value of the results tells us that the minimum value of the function is in the interval $[0, 7.39292e-09]$. The second value tells us that\n",
    "this minimum is achieved in the interval $[2.99964, 3.00019]$. If we want to narrow down this interval, we can use a smaller tollerance"
   ],
   "metadata": {}
  },
  {
   "outputs": [
    {
     "output_type": "execute_result",
     "data": {
      "text/plain": "(IntervalArithmetic.Interval{Float64}[[2.99999, 3.00001]], [5.109304090922251e-10])"
     },
     "metadata": {},
     "execution_count": 4
    }
   ],
   "cell_type": "code",
   "source": [
    "minVal, xmin = minimise(x->(x-3)^2, -∞..∞, tol=1e-9)\n",
    "xmin, [diam(x) for x in xmin]"
   ],
   "metadata": {},
   "execution_count": 4
  },
  {
   "cell_type": "markdown",
   "source": [
    "Now the diameter of the minimiser is only $10^{-10}$ and the minimum is guaranteed to be in that interval."
   ],
   "metadata": {}
  },
  {
   "cell_type": "markdown",
   "source": [
    "## Multivariate Function Minimisation"
   ],
   "metadata": {}
  },
  {
   "cell_type": "markdown",
   "source": [
    "The package can also be used to minimise multivariate functions. Now, the function $f$ will take an array, and $X$ will be an interval box of dimension $n$.\n",
    "As an example, let us find the minimum of the paraboloid $z=(x-3)^2+(y-5)^22$ over the box $[-100, 100]×[-100, 100]$. First let's define the function"
   ],
   "metadata": {}
  },
  {
   "outputs": [
    {
     "output_type": "execute_result",
     "data": {
      "text/plain": "paraboloid (generic function with 1 method)"
     },
     "metadata": {},
     "execution_count": 5
    }
   ],
   "cell_type": "code",
   "source": [
    "paraboloid(x) = (x[1]-3)^2 + (x[2]-3)^2"
   ],
   "metadata": {},
   "execution_count": 5
  },
  {
   "cell_type": "markdown",
   "source": [
    "and our interval box"
   ],
   "metadata": {}
  },
  {
   "outputs": [
    {
     "output_type": "execute_result",
     "data": {
      "text/plain": "[-100, 100] × [-100, 100]"
     },
     "metadata": {},
     "execution_count": 6
    }
   ],
   "cell_type": "code",
   "source": [
    "X = IntervalBox(-100..100, 2)"
   ],
   "metadata": {},
   "execution_count": 6
  },
  {
   "cell_type": "markdown",
   "source": [
    "now we can obtain the minimum"
   ],
   "metadata": {}
  },
  {
   "outputs": [
    {
     "output_type": "execute_result",
     "data": {
      "text/plain": "([0, 4.24526e-22], IntervalArithmetic.IntervalBox{2,Float64}[[2.99999, 3.00001] × [2.99999, 3.00001]])"
     },
     "metadata": {},
     "execution_count": 7
    }
   ],
   "cell_type": "code",
   "source": [
    "zmin, xmin = minimise(paraboloid, X, tol=1e-10)"
   ],
   "metadata": {},
   "execution_count": 7
  },
  {
   "cell_type": "markdown",
   "source": [
    "the position of the minimum has been found with an accuracy of"
   ],
   "metadata": {}
  },
  {
   "outputs": [
    {
     "output_type": "execute_result",
     "data": {
      "text/plain": "1-element Array{Float64,1}:\n 9.154810243217071e-11"
     },
     "metadata": {},
     "execution_count": 8
    }
   ],
   "cell_type": "code",
   "source": [
    "[diam(x) for x in xmin]"
   ],
   "metadata": {},
   "execution_count": 8
  },
  {
   "cell_type": "markdown",
   "source": [
    "### Griewank Function Minimisation"
   ],
   "metadata": {}
  },
  {
   "cell_type": "markdown",
   "source": [
    "The $n$-dimensional Griewank function is defined as\n",
    "$$ G_n(\\mathbf{x})=1+\\frac{1}{4000}\\sum_{i=1}^n x_i^2 -∏_{i=1}^n \\cos\\left(\\frac{x_i}{\\sqrt{i}}\\right),$$"
   ],
   "metadata": {}
  },
  {
   "cell_type": "markdown",
   "source": [
    "for example the 1-dimensional Griewank function is"
   ],
   "metadata": {}
  },
  {
   "cell_type": "markdown",
   "source": [
    "$$ G_1(x) = 1+\\frac{x^2}{4000}-\\cos(x) $$."
   ],
   "metadata": {}
  },
  {
   "cell_type": "markdown",
   "source": [
    "and it is commonly used to test optimisation algorithms. This function has the property to have several regularly distributed local minima, but only one global minimum at the origin. Let's define our function"
   ],
   "metadata": {}
  },
  {
   "outputs": [
    {
     "output_type": "execute_result",
     "data": {
      "text/plain": "G (generic function with 1 method)"
     },
     "metadata": {},
     "execution_count": 9
    }
   ],
   "cell_type": "code",
   "source": [
    "G(X) = 1 + sum(abs2, X) / 4000 - prod( cos(X[i] / √i) for i in 1:length(X) )"
   ],
   "metadata": {},
   "execution_count": 9
  },
  {
   "cell_type": "markdown",
   "source": [
    "Now let's verify our package finds the minima in several dimensions"
   ],
   "metadata": {}
  },
  {
   "outputs": [
    {
     "name": "stdout",
     "output_type": "stream",
     "text": [
      "(N, res, diam(xmin[1])) = (1, [-0, 0], 0.000541404722891739)\n",
      "(N, res, diam(xmin[1])) = (2, [-0, 0], 0.000541404722891739)\n",
      "(N, res, diam(xmin[1])) = (10, [-0, 0], 0.000541404722891739)\n",
      "(N, res, diam(xmin[1])) = (20, [-0, 0], 0.000541404722891739)\n",
      "(N, res, diam(xmin[1])) = (50, [-0, 0], 0.000541404722891739)\n"
     ]
    }
   ],
   "cell_type": "code",
   "source": [
    "for N in (1,2, 10, 20, 50)\n",
    "    res, xmin = minimise(G, IntervalBox(-600..600, N))\n",
    "    @show N, res, diam(xmin[1])\n",
    "end"
   ],
   "metadata": {},
   "execution_count": 10
  },
  {
   "cell_type": "markdown",
   "source": [
    "---\n",
    "\n",
    "*This notebook was generated using [Literate.jl](https://github.com/fredrikekre/Literate.jl).*"
   ],
   "metadata": {}
  }
 ],
 "nbformat_minor": 3,
 "metadata": {
  "language_info": {
   "file_extension": ".jl",
   "mimetype": "application/julia",
   "name": "julia",
   "version": "1.4.0"
  },
  "kernelspec": {
   "name": "julia-1.4",
   "display_name": "Julia 1.4.0",
   "language": "julia"
  }
 },
 "nbformat": 4
}
