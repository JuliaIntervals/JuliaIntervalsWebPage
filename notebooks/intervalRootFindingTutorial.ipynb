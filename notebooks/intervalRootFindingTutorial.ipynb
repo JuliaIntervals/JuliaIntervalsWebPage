{
 "cells": [
  {
   "cell_type": "markdown",
   "source": [
    "# Interval Root Finding Tutorial"
   ],
   "metadata": {}
  },
  {
   "cell_type": "markdown",
   "source": [
    "## Setup"
   ],
   "metadata": {}
  },
  {
   "cell_type": "markdown",
   "source": [
    "The `IntervalOptimisation.jl` package can be installed with"
   ],
   "metadata": {}
  },
  {
   "cell_type": "markdown",
   "source": [
    "```julia\n",
    "using Pkg; Pkg.add(\"IntervalOptimisation\");\n",
    "```"
   ],
   "metadata": {}
  },
  {
   "cell_type": "markdown",
   "source": [
    "Once the package is installed, it can be imported. Note that you will need also the `IntervalArithmetic.jl` package."
   ],
   "metadata": {}
  },
  {
   "outputs": [],
   "cell_type": "code",
   "source": [
    "using IntervalArithmetic, IntervalRootFinding"
   ],
   "metadata": {},
   "execution_count": 1
  },
  {
   "cell_type": "markdown",
   "source": [
    "## Basic Usage"
   ],
   "metadata": {}
  },
  {
   "cell_type": "markdown",
   "source": [
    "To get started, let's compute the roots of the simple function $f(x)=x^2-2x$ over the interval $[-4, -4]$.\n",
    "To fullfil the task, we can use the function `roots` from the `IntervalRootFinding` package which has syntax"
   ],
   "metadata": {}
  },
  {
   "cell_type": "markdown",
   "source": [
    "`rts = roots(f, X, method)`, \\\\where"
   ],
   "metadata": {}
  },
  {
   "cell_type": "markdown",
   "source": [
    "- `f` is the function whose roots we want to find\n",
    "- `X` is the interval over which we look for the roots\n",
    "- `method` is a third optional parameter that specifies what method is used to compute the roots. The following methods are supported: Newton (default), Krawczyk and Bisection."
   ],
   "metadata": {}
  },
  {
   "outputs": [
    {
     "output_type": "execute_result",
     "data": {
      "text/plain": "2-element Array{IntervalRootFinding.Root{IntervalArithmetic.Interval{Float64}},1}:\n Root([1.99999, 2.00001], :unique)\n Root([-1.72982e-09, 1.38862e-09], :unique)"
     },
     "metadata": {},
     "execution_count": 2
    }
   ],
   "cell_type": "code",
   "source": [
    "f(x) = x^2-2x\n",
    "X = -4..4\n",
    "\n",
    "rts = roots(f, X) # using newton method"
   ],
   "metadata": {},
   "execution_count": 2
  },
  {
   "cell_type": "markdown",
   "source": [
    "As can be noticed, the result of the function is an array of elements of type `Root`.\n",
    "Each Root-element has two fields: `interval`, containing the interval contain a zero of the function,\n",
    "and `status`, a \"label\" telling whether the interval is guaranteed to contain a single root (`:unique`) or\n",
    "whether the interval may possibly contain multiple or zero roots (`:unknown`).\n",
    "It is good to notice that only Newton and Krawczyk methods can make some considerations on the uniqueness of the roots. If Bisection method is used,\n",
    "the status of all roots will automatically be unknown, as the following example shows."
   ],
   "metadata": {}
  },
  {
   "outputs": [
    {
     "output_type": "execute_result",
     "data": {
      "text/plain": "4-element Array{IntervalRootFinding.Root{IntervalArithmetic.Interval{Float64}},1}:\n Root([-2.3921e-08, 3.24651e-08], :unknown)\n Root([1.99999, 2.00001], :unknown)\n Root([1.99999, 2], :unknown)\n Root([2, 2.00001], :unknown)"
     },
     "metadata": {},
     "execution_count": 3
    }
   ],
   "cell_type": "code",
   "source": [
    "roots(f, X, Bisection)"
   ],
   "metadata": {},
   "execution_count": 3
  },
  {
   "cell_type": "markdown",
   "source": [
    "Note also how the Bisection method may return some extra intervals not containing the root."
   ],
   "metadata": {}
  },
  {
   "cell_type": "markdown",
   "source": [
    "## Explicit derivatives"
   ],
   "metadata": {}
  },
  {
   "cell_type": "markdown",
   "source": [
    "Both Newton and Krawczyk method need to compute the derivative of the function. This is done under the hood using the `ForwardDiff.jl` package.\n",
    "You can help the solver by explicitly giving the derivative of the function as a second parameter. This is particularly useful if ForwardDiff is not\n",
    "able to compute the derivative."
   ],
   "metadata": {}
  },
  {
   "outputs": [
    {
     "output_type": "execute_result",
     "data": {
      "text/plain": "1-element Array{IntervalRootFinding.Root{IntervalArithmetic.Interval{Float64}},1}:\n Root([0.999999, 1.00001], :unique)"
     },
     "metadata": {},
     "execution_count": 4
    }
   ],
   "cell_type": "code",
   "source": [
    "roots(log, x->1/x, -2..2)"
   ],
   "metadata": {},
   "execution_count": 4
  },
  {
   "cell_type": "markdown",
   "source": [
    "Note that this will (generally) speed up the computations a little, but it will not affect the accuracy of the result"
   ],
   "metadata": {}
  },
  {
   "outputs": [
    {
     "name": "stdout",
     "output_type": "stream",
     "text": [
      "  62.601 μs (322 allocations: 13.56 KiB)\n",
      "  92.999 μs (369 allocations: 14.41 KiB)\n"
     ]
    },
    {
     "output_type": "execute_result",
     "data": {
      "text/plain": "1-element Array{IntervalRootFinding.Root{IntervalArithmetic.Interval{Float64}},1}:\n Root([0.999999, 1.00001], :unique)"
     },
     "metadata": {},
     "execution_count": 5
    }
   ],
   "cell_type": "code",
   "source": [
    "using BenchmarkTools\n",
    "@btime roots(log, x->1/x, -2..2)\n",
    "\n",
    "@btime roots(log, -2..2)"
   ],
   "metadata": {},
   "execution_count": 5
  },
  {
   "cell_type": "markdown",
   "source": [
    "## Multidimensional"
   ],
   "metadata": {}
  },
  {
   "cell_type": "markdown",
   "source": [
    "The function `roots` works also for multidimensional functions $\\mathbb{R}^m\\rightarrow\\mathbb{R}^n$, with a few adjustments:\n",
    "- the function should return a `SVector`, an efficient data structure for arrays whose size is known at compile time. SVector requires the package `StaticArrays`.\n",
    "- the function can take as input an array or a tuple of scalars\n",
    "- The roots are now searched over an `IntervalBox`"
   ],
   "metadata": {}
  },
  {
   "outputs": [
    {
     "output_type": "execute_result",
     "data": {
      "text/plain": "2-element Array{IntervalRootFinding.Root{IntervalArithmetic.IntervalBox{2,Float64}},1}:\n Root([-1.19115e-21, 1.0588e-22] × [-1.5708, -1.57079], :unique)\n Root([-1.19115e-21, 1.0588e-22] × [1.57079, 1.5708], :unique)"
     },
     "metadata": {},
     "execution_count": 6
    }
   ],
   "cell_type": "code",
   "source": [
    "using StaticArrays\n",
    "g( (x, y) ) = SVector(sin(x), cos(y))\n",
    "X = IntervalBox(-3..3, 2)\n",
    "\n",
    "rts = roots(g, X)"
   ],
   "metadata": {},
   "execution_count": 6
  },
  {
   "cell_type": "markdown",
   "source": [
    "Similarly to 1D, if Newton or Krawczyk method are used, the solver can be helped by explicitly providing the Jacobian, which should be a `SMatrix`"
   ],
   "metadata": {}
  },
  {
   "outputs": [
    {
     "name": "stdout",
     "output_type": "stream",
     "text": [
      "  743.700 μs (2021 allocations: 88.17 KiB)\n",
      "  673.199 μs (2014 allocations: 86.66 KiB)\n"
     ]
    }
   ],
   "cell_type": "code",
   "source": [
    "function dg( (x, y) )\n",
    "    return SMatrix{2, 2}(cos(x), 0, 0, -sin(y))\n",
    "end\n",
    "\n",
    "@btime roots(g, dg, X)\n",
    "@btime roots(g, X)\n",
    "nothing # hide"
   ],
   "metadata": {},
   "execution_count": 7
  },
  {
   "cell_type": "markdown",
   "source": [
    "## Tollerance"
   ],
   "metadata": {}
  },
  {
   "cell_type": "markdown",
   "source": [
    "By default, the roots are found with a tollerance of `1e-15`. This can be changed by giving the solver an extra parameter.\n",
    "A Higher tollerance can significantly speed up the computations. However, as a drawback, more intervals might have an `:unknown` status.\n",
    "Observe the following example"
   ],
   "metadata": {}
  },
  {
   "outputs": [
    {
     "name": "stdout",
     "output_type": "stream",
     "text": [
      "  1.575 ms (2884 allocations: 123.27 KiB)\n"
     ]
    },
    {
     "output_type": "execute_result",
     "data": {
      "text/plain": "6-element Array{IntervalRootFinding.Root{IntervalArithmetic.Interval{Float64}},1}:\n Root([0.106103, 0.106104], :unique)\n Root([0.318309, 0.31831], :unique)\n Root([0.0795774, 0.0795775], :unique)\n Root([0.0636619, 0.063662], :unique)\n Root([0.0530516, 0.0530517], :unique)\n Root([0.159154, 0.159155], :unique)"
     },
     "metadata": {},
     "execution_count": 8
    }
   ],
   "cell_type": "code",
   "source": [
    "h(x) = cos(x) * sin(1 / x)\n",
    "\n",
    "@btime roots(h, 0.05..1)"
   ],
   "metadata": {},
   "execution_count": 8
  },
  {
   "outputs": [
    {
     "name": "stdout",
     "output_type": "stream",
     "text": [
      "  1.076 ms (1645 allocations: 72.36 KiB)\n"
     ]
    },
    {
     "output_type": "execute_result",
     "data": {
      "text/plain": "6-element Array{IntervalRootFinding.Root{IntervalArithmetic.Interval{Float64}},1}:\n Root([0.317179, 0.319299], :unique)\n Root([0.157209, 0.165989], :unknown)\n Root([0.104739, 0.107542], :unknown)\n Root([0.0515382, 0.0531049], :unique)\n Root([0.0785458, 0.0797755], :unknown)\n Root([0.0570253, 0.0641614], :unknown)"
     },
     "metadata": {},
     "execution_count": 9
    }
   ],
   "cell_type": "code",
   "source": [
    "@btime roots(h, 0.05..1, Newton, 1e-2)"
   ],
   "metadata": {},
   "execution_count": 9
  },
  {
   "outputs": [
    {
     "name": "stdout",
     "output_type": "stream",
     "text": [
      "  258.100 μs (590 allocations: 25.89 KiB)\n"
     ]
    },
    {
     "output_type": "execute_result",
     "data": {
      "text/plain": "3-element Array{IntervalRootFinding.Root{IntervalArithmetic.Interval{Float64}},1}:\n Root([0.107541, 0.165989], :unknown)\n Root([0.283803, 0.3555], :unknown)\n Root([0.0499999, 0.107542], :unknown)"
     },
     "metadata": {},
     "execution_count": 10
    }
   ],
   "cell_type": "code",
   "source": [
    "@btime roots(h, 0.05..1, Newton, 1e-1)"
   ],
   "metadata": {},
   "execution_count": 10
  },
  {
   "cell_type": "markdown",
   "source": [
    "---\n",
    "\n",
    "*This notebook was generated using [Literate.jl](https://github.com/fredrikekre/Literate.jl).*"
   ],
   "metadata": {}
  }
 ],
 "nbformat_minor": 3,
 "metadata": {
  "language_info": {
   "file_extension": ".jl",
   "mimetype": "application/julia",
   "name": "julia",
   "version": "1.5.0"
  },
  "kernelspec": {
   "name": "julia-1.5",
   "display_name": "Julia 1.5.0",
   "language": "julia"
  }
 },
 "nbformat": 4
}
