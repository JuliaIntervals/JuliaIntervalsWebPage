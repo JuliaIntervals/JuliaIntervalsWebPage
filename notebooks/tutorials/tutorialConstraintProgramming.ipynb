{
 "cells": [
  {
   "cell_type": "markdown",
   "source": [
    "Interval constraint programming optimisation"
   ],
   "metadata": {}
  },
  {
   "cell_type": "markdown",
   "source": [
    "## Setup"
   ],
   "metadata": {}
  },
  {
   "cell_type": "markdown",
   "source": [
    "The `IntervalOptimisation.jl` package can be installed with"
   ],
   "metadata": {}
  },
  {
   "cell_type": "markdown",
   "source": [
    "```julia\n",
    "using Pkg; Pkg.add(\"IntervalConstraintProgramming\")\n",
    "```"
   ],
   "metadata": {}
  },
  {
   "cell_type": "markdown",
   "source": [
    "Once the package is installed, it can be imported. Note that you will need also the `IntervalArithmetic.jl` package."
   ],
   "metadata": {}
  },
  {
   "outputs": [],
   "cell_type": "code",
   "source": [
    "using IntervalArithmetic, IntervalConstraintProgramming"
   ],
   "metadata": {},
   "execution_count": null
  },
  {
   "cell_type": "markdown",
   "source": [
    "## Introduction"
   ],
   "metadata": {}
  },
  {
   "cell_type": "markdown",
   "source": [
    "This Julia package allows you to specify a set of constraints on real-valued variables, given by (in)equalities, and rigorously calculate inner and outer approximations to the feasible set, i.e. the set that satisfies the constraints."
   ],
   "metadata": {}
  },
  {
   "cell_type": "markdown",
   "source": [
    "This uses interval arithmetic provided by the `IntervalArithmetic.jl` package, in particular multi-dimensional IntervalBoxes, i.e. Cartesian products of one-dimensional intervals."
   ],
   "metadata": {}
  },
  {
   "cell_type": "markdown",
   "source": [
    "## Basic usage"
   ],
   "metadata": {}
  },
  {
   "cell_type": "markdown",
   "source": [
    "The simple way to define a constraint is to use the `@constraint` macro, as the following example demonstrates"
   ],
   "metadata": {}
  },
  {
   "outputs": [],
   "cell_type": "code",
   "source": [
    "S = @constraint x^2 + y^2 <= 1"
   ],
   "metadata": {},
   "execution_count": null
  },
  {
   "cell_type": "markdown",
   "source": [
    "As it can be noticed, the macro itself can figure out that $x$ and $y$ are variables and you do not need to define those separately. The output of the macro is an object of type `Separator`.\n",
    "This is a function which, when applied to the box $X = x \\times y$ in the $xy$-plane, applies two contractors, an inner one and an outer one.\n",
    "The inner contractor tries to shrink down, or contract, the box, to the smallest subbox of X that contains the part of X that satisfies the constraint; the outer contractor tries to contract X to the smallest subbox that contains the region where the constraint is not satisfied.\n",
    "When S is applied to the box X, it returns the result of the inner and outer contractors:"
   ],
   "metadata": {}
  },
  {
   "outputs": [],
   "cell_type": "code",
   "source": [
    "X = IntervalBox(-100..100, 2)\n",
    "\n",
    "inner, outer = S(X)\n",
    "\n",
    "@show inner\n",
    "\n",
    "@show outer"
   ],
   "metadata": {},
   "execution_count": null
  },
  {
   "cell_type": "markdown",
   "source": [
    "## First application: set inversion"
   ],
   "metadata": {}
  },
  {
   "cell_type": "markdown",
   "source": [
    "Given a function $f:\\R^m\\rightarrow\\R^n$ and a set $Y\\subset\\R^n$, set inversion means to find the set $X=f^{1}(Y)=\\{x\\in\\R^m|f(x)\\in Y\\}$, which is refered as *feasible set*. Generally, the\n",
    "image set Y can be represented as a set of constraints on the expression $f(X)$ and solving the set inversion problem means to find the points in $X$ for\n",
    "which these constraints are satisfied. As we show in this example, set inversion can be solved using interval constraint programming.\n",
    "Let's consider the function $f(x, y) = x^2+y^2$ and let's find the set $X$ for which $f(X)\\in[1, 3]$, i.e. we must find the points $(x, y)$ for which $1\\leq x^2+y^2\\leq 3$.\n",
    "Let's define this constraint"
   ],
   "metadata": {}
  },
  {
   "outputs": [],
   "cell_type": "code",
   "source": [
    "S = @constraint 1 <= x^2+y^2 <= 3"
   ],
   "metadata": {},
   "execution_count": null
  },
  {
   "cell_type": "markdown",
   "source": [
    "The strategy to solve this problem is the following, we start with a large interval box, which we know will contain the feasible sets and we iteratively divide the box in smaller boxes,\n",
    "keeping track of which boxes are guaranteed to be inside the feasible sets, the boxes that are outside and the boxes that are on the boundary.\n",
    "`IntervalConstraintProgramming` offers the function `pave`, to do so, the signature of this function is\n",
    "```\n",
    "pave(S, X, tol)\n",
    "```\n",
    "where $S$ is our Separator, $X$ is our starting box and $tol$ is a tollerance parameter. This function returns an object of type `SubPaving`, which stores  a list of boxes guaranteed\n",
    "to be into the feasible set in the attribute `inner`, as well as a list of boxes on the boundary in the attribute `boundary`."
   ],
   "metadata": {}
  },
  {
   "outputs": [],
   "cell_type": "code",
   "source": [
    "X = IntervalBox(-100..100, 2) # our starting box\n",
    "paving = pave(S, X, 0.125)"
   ],
   "metadata": {},
   "execution_count": null
  },
  {
   "cell_type": "markdown",
   "source": [
    "As we can see, the function found in total 164 boxes inside the feasible set and 164 boxes at the boundary. We can now visualize how well\n",
    "paving approximates the feasible set"
   ],
   "metadata": {}
  },
  {
   "outputs": [],
   "cell_type": "code",
   "source": [
    "using Plots\n",
    "plot(paving.inner, c=\"green\", aspect_ratio=:equal, label=\"inner\")\n",
    "plot!(paving.boundary, c=\"gray\", label=\"boundary\")"
   ],
   "metadata": {},
   "execution_count": null
  },
  {
   "cell_type": "markdown",
   "source": [
    "The smallest the tolerance parameter, the better the approximation of the feasible set will be, as the following animation shows"
   ],
   "metadata": {}
  },
  {
   "outputs": [],
   "cell_type": "code",
   "source": [
    "tollerances =  append!(collect(1:-0.1:0.1), collect(0.09:-0.01:0.01))\n",
    "anim = @animate for tol in tollerances\n",
    "    paving = pave(S, X, tol)\n",
    "    plot(paving.inner, c=\"green\", legend=false, title=\"tol=$tol\", aspect_ratio=:equal)\n",
    "    plot!(paving.boundary, c=\"gray\")\n",
    "end"
   ],
   "metadata": {},
   "execution_count": null
  },
  {
   "cell_type": "markdown",
   "source": [
    "---\n",
    "\n",
    "*This notebook was generated using [Literate.jl](https://github.com/fredrikekre/Literate.jl).*"
   ],
   "metadata": {}
  }
 ],
 "nbformat_minor": 3,
 "metadata": {
  "language_info": {
   "file_extension": ".jl",
   "mimetype": "application/julia",
   "name": "julia",
   "version": "1.5.0"
  },
  "kernelspec": {
   "name": "julia-1.5",
   "display_name": "Julia 1.5.0",
   "language": "julia"
  }
 },
 "nbformat": 4
}
