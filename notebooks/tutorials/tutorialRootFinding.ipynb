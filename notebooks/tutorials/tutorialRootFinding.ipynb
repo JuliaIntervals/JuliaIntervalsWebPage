{
 "cells": [
  {
   "cell_type": "markdown",
   "source": [
    "# Interval root finding tutorial"
   ],
   "metadata": {}
  },
  {
   "cell_type": "markdown",
   "source": [
    "## Setup"
   ],
   "metadata": {}
  },
  {
   "cell_type": "markdown",
   "source": [
    "The `IntervalRootFinding.jl` package can be installed with"
   ],
   "metadata": {}
  },
  {
   "cell_type": "markdown",
   "source": [
    "```julia-repl\n",
    "julia> using Pkg; Pkg.add(\"IntervalRootFinding\");\n",
    "```"
   ],
   "metadata": {}
  },
  {
   "cell_type": "markdown",
   "source": [
    "Once the package is installed, it can be imported. Note that you will need also the `IntervalArithmetic.jl` package."
   ],
   "metadata": {}
  },
  {
   "outputs": [],
   "cell_type": "code",
   "source": [
    "using IntervalArithmetic, IntervalRootFinding"
   ],
   "metadata": {},
   "execution_count": null
  },
  {
   "cell_type": "markdown",
   "source": [
    "## Introduction"
   ],
   "metadata": {}
  },
  {
   "cell_type": "markdown",
   "source": [
    "The `IntervalRootFinding.jl` can be used to rigorously compute the zeros of a function $f: \\mathbb{R}^m\\rightarrow\\mathbb{R}^n$ over a given\n",
    "interval (or interval box) $X\\subset\\mathbb{R}^m$.\n",
    "## Basic usage"
   ],
   "metadata": {}
  },
  {
   "cell_type": "markdown",
   "source": [
    "To get started, let's compute the roots of the simple function $f(x)=x^2-2x$ over the interval $[-4, -4]$.\n",
    "To fullfil the task, we can use the function `roots` from the `IntervalRootFinding` package which has syntax"
   ],
   "metadata": {}
  },
  {
   "cell_type": "markdown",
   "source": [
    "`rts = roots(f, X, method)`, \\\\where"
   ],
   "metadata": {}
  },
  {
   "cell_type": "markdown",
   "source": [
    "- `f` is the function whose roots we want to find\n",
    "- `X` is the interval over which we look for the roots\n",
    "- `method` is a third optional parameter that specifies what method is used to compute the roots. The following methods are supported: Newton (default), Krawczyk and Bisection."
   ],
   "metadata": {}
  },
  {
   "outputs": [],
   "cell_type": "code",
   "source": [
    "f(x) = x^2-2x\n",
    "X = -4..4\n",
    "\n",
    "rts = roots(f, X) # using newton method"
   ],
   "metadata": {},
   "execution_count": null
  },
  {
   "cell_type": "markdown",
   "source": [
    "As can be noticed, the result of the function is an array of elements of type `Root`.\n",
    "Each Root-element has two fields: `interval`, containing the interval contain a zero of the function,\n",
    "and `status`, a \"label\" telling whether the interval is guaranteed to contain a single root (`:unique`) or\n",
    "whether the interval may possibly contain multiple or zero roots (`:unknown`).\n",
    "It is good to notice that only Newton and Krawczyk methods can make some considerations on the uniqueness of the roots. If Bisection method is used,\n",
    "the status of all roots will automatically be unknown, as the following example shows."
   ],
   "metadata": {}
  },
  {
   "outputs": [],
   "cell_type": "code",
   "source": [
    "roots(f, X, Bisection)"
   ],
   "metadata": {},
   "execution_count": null
  },
  {
   "cell_type": "markdown",
   "source": [
    "Note also how the Bisection method may return some extra intervals not containing the roots."
   ],
   "metadata": {}
  },
  {
   "cell_type": "markdown",
   "source": [
    "## Explicit derivatives"
   ],
   "metadata": {}
  },
  {
   "cell_type": "markdown",
   "source": [
    "Both Newton and Krawczyk method need to compute the derivative of the function. This is done under the hood using the `ForwardDiff.jl` package.\n",
    "You can help the solver by explicitly giving the derivative of the function as a second parameter. This is particularly useful if ForwardDiff is not\n",
    "able to compute the derivative."
   ],
   "metadata": {}
  },
  {
   "outputs": [],
   "cell_type": "code",
   "source": [
    "roots(log, x->1/x, -2..2)"
   ],
   "metadata": {},
   "execution_count": null
  },
  {
   "cell_type": "markdown",
   "source": [
    "Note that this will (generally) speed up the computations a little, but it will not affect the accuracy of the result"
   ],
   "metadata": {}
  },
  {
   "outputs": [],
   "cell_type": "code",
   "source": [
    "using BenchmarkTools\n",
    "@btime roots(log, x->1/x, -2..2)\n",
    "\n",
    "@btime roots(log, -2..2)"
   ],
   "metadata": {},
   "execution_count": null
  },
  {
   "cell_type": "markdown",
   "source": [
    "## Multidimensional example"
   ],
   "metadata": {}
  },
  {
   "cell_type": "markdown",
   "source": [
    "The function `roots` works also for multidimensional functions $\\mathbb{R}^m\\rightarrow\\mathbb{R}^n$, with a few adjustments:\n",
    "- the function should return a `SVector`, an efficient data structure for arrays whose size is known at compile time. SVector requires the package `StaticArrays`.\n",
    "- the function can take as input an array or a tuple of scalars\n",
    "- The roots are now searched over an `IntervalBox`"
   ],
   "metadata": {}
  },
  {
   "outputs": [],
   "cell_type": "code",
   "source": [
    "using StaticArrays\n",
    "g( (x, y) ) = SVector(sin(x), cos(y))\n",
    "X = IntervalBox(-3..3, 2)\n",
    "\n",
    "rts = roots(g, X)"
   ],
   "metadata": {},
   "execution_count": null
  },
  {
   "cell_type": "markdown",
   "source": [
    "Similarly to 1D, if Newton or Krawczyk method are used, the solver can be helped by explicitly providing the Jacobian, which should be a `SMatrix`"
   ],
   "metadata": {}
  },
  {
   "outputs": [],
   "cell_type": "code",
   "source": [
    "function dg( (x, y) )\n",
    "    return SMatrix{2, 2}(cos(x), 0, 0, -sin(y))\n",
    "end\n",
    "\n",
    "@btime roots(g, dg, X)\n",
    "@btime roots(g, X)\n",
    "nothing # hide"
   ],
   "metadata": {},
   "execution_count": null
  },
  {
   "cell_type": "markdown",
   "source": [
    "## Tolerance"
   ],
   "metadata": {}
  },
  {
   "cell_type": "markdown",
   "source": [
    "By default, the roots are found with a tolerance of `1e-15`. This can be changed by giving the solver an extra parameter.\n",
    "A Higher tolerance can significantly speed up the computations. However, as a drawback, more intervals might have an `:unknown` status.\n",
    "Observe the following example"
   ],
   "metadata": {}
  },
  {
   "outputs": [],
   "cell_type": "code",
   "source": [
    "h(x) = cos(x) * sin(1 / x)\n",
    "\n",
    "@btime roots(h, 0.05..1)"
   ],
   "metadata": {},
   "execution_count": null
  },
  {
   "outputs": [],
   "cell_type": "code",
   "source": [
    "@btime roots(h, 0.05..1, Newton, 1e-2)"
   ],
   "metadata": {},
   "execution_count": null
  },
  {
   "outputs": [],
   "cell_type": "code",
   "source": [
    "@btime roots(h, 0.05..1, Newton, 1e-1)"
   ],
   "metadata": {},
   "execution_count": null
  },
  {
   "cell_type": "markdown",
   "source": [
    "---\n",
    "\n",
    "*This notebook was generated using [Literate.jl](https://github.com/fredrikekre/Literate.jl).*"
   ],
   "metadata": {}
  }
 ],
 "nbformat_minor": 3,
 "metadata": {
  "language_info": {
   "file_extension": ".jl",
   "mimetype": "application/julia",
   "name": "julia",
   "version": "1.5.0"
  },
  "kernelspec": {
   "name": "julia-1.5",
   "display_name": "Julia 1.5.0",
   "language": "julia"
  }
 },
 "nbformat": 4
}
