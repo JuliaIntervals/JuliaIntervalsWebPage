{
 "cells": [
  {
   "cell_type": "markdown",
   "metadata": {},
   "source": [
    "# Taylor models tutorial"
   ]
  },
  {
   "cell_type": "markdown",
   "metadata": {},
   "source": [
    "## Setup"
   ]
  },
  {
   "cell_type": "markdown",
   "metadata": {},
   "source": [
    "The `IntervalOptimisation.jl` package can be installed with"
   ]
  },
  {
   "cell_type": "markdown",
   "metadata": {},
   "source": [
    "```julia\n",
    "using Pkg; Pkg.add(\"IntervalConstraintProgramming\")\n",
    "```"
   ]
  },
  {
   "cell_type": "markdown",
   "metadata": {},
   "source": [
    "Once the package is installed, it can be imported. Note that you will need also the `IntervalArithmetic.jl` package."
   ]
  },
  {
   "cell_type": "code",
   "execution_count": 1,
   "metadata": {},
   "outputs": [
    {
     "name": "stderr",
     "output_type": "stream",
     "text": [
      "┌ Info: Precompiling TaylorModels [314ce334-5f6e-57ae-acf6-00b6e903104a]\n",
      "└ @ Base loading.jl:1278\n"
     ]
    }
   ],
   "source": [
    "using IntervalArithmetic, TaylorModels"
   ]
  },
  {
   "cell_type": "markdown",
   "metadata": {},
   "source": [
    "## Introduction"
   ]
  },
  {
   "cell_type": "markdown",
   "metadata": {},
   "source": [
    "Given a function $f$ which is continuously derivable $n+1$ times, its nth-order taylor approximation around the point $x_0$ is given by\n",
    "$$P_n(x) = \\sum_{i=0}^n\\frac{f^{(n)}(x_0)}{i!}(x-x_0)^i,$$\n",
    "where $P_n(x)$ is a polynomial of degree $n$. It is well known that Taylor expansion gives a good approximation in a small neighbourhood around $x_0$. However it does not give any information on the approximation error."
   ]
  },
  {
   "cell_type": "markdown",
   "metadata": {},
   "source": [
    "`TaylorModels.jl` uses interval arithmetic to give a rigorous polynomial approximation of $f$ over the interval $[a, b]$. More formally, the rigorous approximation is given by the pair $(P_n(x), \\Delta)$, where\n",
    "- $P_n(x)$ is a polynomial of degree $n$, whose coefficients are intervals.\n",
    "- $\\Delta$ is the *interval remainder*, and it provides an estimate of all numerical errors (rounding, truncation) encoutered during Taylor expansion computation, i.e. it is guaranteed that $\\forall x\\in[a, b]:~|P(x)-f(x)|\\in\\Delta$."
   ]
  },
  {
   "cell_type": "markdown",
   "metadata": {},
   "source": [
    "## Taylor models for univariate function"
   ]
  },
  {
   "cell_type": "markdown",
   "metadata": {},
   "source": [
    "Let us now describe how to get the rigorous Taylor approximation for a function $f$ in an interval $a$ around the point $x_0$. Let us define our parameters"
   ]
  },
  {
   "cell_type": "code",
   "execution_count": 2,
   "metadata": {},
   "outputs": [
    {
     "data": {
      "text/plain": [
       "0.25"
      ]
     },
     "execution_count": 2,
     "metadata": {},
     "output_type": "execute_result"
    }
   ],
   "source": [
    "f(x) = x*(x-1.1)*(x+2)*(x+2.2)*(x+2.5)*(x+3)*sin(1.7*x+0.5)\n",
    "a = -0.5..1\n",
    "x0 = mid(a) # expansion around the middle point of the domain"
   ]
  },
  {
   "cell_type": "markdown",
   "metadata": {},
   "source": [
    "To create a Taylor model of order $n$ in the interval $a$ around the point $x_0$ we need the function `TaylorModel1` from `TaylorModels.jl`, (note the 1 stands for 1 dimensional). The signature of this function is\n",
    "Note that `x_0` must be given as an interval, even though it is a single point. Observe the following example, where we create a Taylor approximation of order 6 and 7"
   ]
  },
  {
   "cell_type": "code",
   "execution_count": 3,
   "metadata": {},
   "outputs": [
    {
     "name": "stdout",
     "output_type": "stream",
     "text": [
      "tm6 =  [0.25, 0.25] + [1, 1] t + [0, 0]\n",
      "tm7 =  [0.25, 0.25] + [1, 1] t + [0, 0]\n"
     ]
    },
    {
     "data": {
      "text/plain": [
       " [0.25, 0.25] + [1, 1] t + [0, 0]"
      ]
     },
     "execution_count": 3,
     "metadata": {},
     "output_type": "execute_result"
    }
   ],
   "source": [
    "tm6 = TaylorModel1(6, interval(x0), a)\n",
    "tm7 = TaylorModel1(7, interval(x0), a)\n",
    "@show tm6\n",
    "@show tm7"
   ]
  },
  {
   "cell_type": "markdown",
   "metadata": {},
   "source": [
    "Now to compute the Taylor approximation of our functions we can simply give the previously constructed Taylor model to the function as input"
   ]
  },
  {
   "cell_type": "code",
   "execution_count": 4,
   "metadata": {},
   "outputs": [
    {
     "name": "stdout",
     "output_type": "stream",
     "text": [
      "ftm6 =  [-8.36112, -8.36111] + [-47.0612, -47.0611] t + [-38.3545, -38.3544] t² + [90.4376, 90.4377] t³ + [102.183, 102.184] t⁴ + [-20.5814, -20.5813] t⁵ + [-58.0084, -58.0083] t⁶ + [-1.97165, 2.71142]\n",
      "ftm7 =  [-8.36112, -8.36111] + [-47.0612, -47.0611] t + [-38.3545, -38.3544] t² + [90.4376, 90.4377] t³ + [102.183, 102.184] t⁴ + [-20.5814, -20.5813] t⁵ + [-58.0084, -58.0083] t⁶ + [-14.3341, -14.334] t⁷ + [-0.281401, 1.03908]\n"
     ]
    },
    {
     "data": {
      "text/plain": [
       " [-8.36112, -8.36111] + [-47.0612, -47.0611] t + [-38.3545, -38.3544] t² + [90.4376, 90.4377] t³ + [102.183, 102.184] t⁴ + [-20.5814, -20.5813] t⁵ + [-58.0084, -58.0083] t⁶ + [-14.3341, -14.334] t⁷ + [-0.281401, 1.03908]"
      ]
     },
     "execution_count": 4,
     "metadata": {},
     "output_type": "execute_result"
    }
   ],
   "source": [
    "ftm6 = f(tm6)\n",
    "ftm7 = f(tm7)\n",
    "@show ftm6\n",
    "@show ftm7"
   ]
  },
  {
   "cell_type": "markdown",
   "metadata": {},
   "source": [
    "The last term of the expression is the interval remainder and the previous ones represent the Taylor polynomial.\n",
    "The result is an object of type `TaylorModel1` with the following attributes\n",
    "- `dom`: inverval over which the Taylor approximation is computed ($a$ in our example)\n",
    "- `pol`: polynomial approximation of the function\n",
    "- `rem`: interval remainder\n",
    "- `x0`: center of Taylor expansion ($x_0$ in our example)"
   ]
  },
  {
   "cell_type": "markdown",
   "metadata": {},
   "source": [
    "Now we can visualize how well our taylor model works using the plot function."
   ]
  },
  {
   "cell_type": "code",
   "execution_count": null,
   "metadata": {},
   "outputs": [
    {
     "name": "stderr",
     "output_type": "stream",
     "text": [
      "┌ Info: Precompiling Plots [91a5bcdd-55d7-5caf-9e0b-520d859cae80]\n",
      "└ @ Base loading.jl:1278\n"
     ]
    }
   ],
   "source": [
    "using Plots\n",
    "plot(range(inf(a), stop=sup(a), length=1000), f, lw=2, xaxis=\"x\", yaxis=\"f(x)\", label=\"f(x)\")\n",
    "plot!(ftm6, label=\"6th order\")\n",
    "plot!(ftm7, label=\"7th order\")"
   ]
  },
  {
   "cell_type": "markdown",
   "metadata": {},
   "source": [
    "As you can notice, the Taylor model produces a \"band\" around the function and the polynomial approximation is guaranteed to be somewhere inside that bar.\n",
    "As you may expect, the higher the order of the model, the narrower the band will be, as the following animation shows"
   ]
  },
  {
   "cell_type": "code",
   "execution_count": null,
   "metadata": {},
   "outputs": [],
   "source": [
    "orders = [1, 2, 3, 4, 5, 6, 7, 8, 9, 10]\n",
    "using Interact\n",
    "@manipulat for n in orders\n",
    "    tm = TaylorModel1(n, interval(x0), a)\n",
    "    ftm = f(tm)\n",
    "    plot(range(inf(a), stop=sup(a), length=1000), f, lw=2, xaxis=\"x\", yaxis=\"f(x)\", label=\"f(x)\")\n",
    "    plot!(ftm, title=\"$(n)th order\")\n",
    "end"
   ]
  },
  {
   "cell_type": "markdown",
   "metadata": {},
   "source": [
    "---\n",
    "\n",
    "*This notebook was generated using [Literate.jl](https://github.com/fredrikekre/Literate.jl).*"
   ]
  }
 ],
 "metadata": {
  "kernelspec": {
   "display_name": "Julia 1.5.0",
   "language": "julia",
   "name": "julia-1.5"
  },
  "language_info": {
   "file_extension": ".jl",
   "mimetype": "application/julia",
   "name": "julia",
   "version": "1.5.0"
  }
 },
 "nbformat": 4,
 "nbformat_minor": 3
}
