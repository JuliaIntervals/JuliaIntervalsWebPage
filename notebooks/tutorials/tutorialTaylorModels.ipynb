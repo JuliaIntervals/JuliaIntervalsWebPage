{
 "cells": [
  {
   "cell_type": "markdown",
   "source": [
    "# Taylor models tutorial"
   ],
   "metadata": {}
  },
  {
   "cell_type": "markdown",
   "source": [
    "## Setup"
   ],
   "metadata": {}
  },
  {
   "cell_type": "markdown",
   "source": [
    "The `TaylorModels.jl` package can be installed with"
   ],
   "metadata": {}
  },
  {
   "cell_type": "markdown",
   "source": [
    "```julia\n",
    "using Pkg; Pkg.add(\"TaylorModels\")\n",
    "```"
   ],
   "metadata": {}
  },
  {
   "cell_type": "markdown",
   "source": [
    "Once the package is installed, it can be imported. Note that you will need also the `IntervalArithmetic.jl` package."
   ],
   "metadata": {}
  },
  {
   "outputs": [],
   "cell_type": "code",
   "source": [
    "using IntervalArithmetic, TaylorModels"
   ],
   "metadata": {},
   "execution_count": null
  },
  {
   "cell_type": "markdown",
   "source": [
    "## Introduction"
   ],
   "metadata": {}
  },
  {
   "cell_type": "markdown",
   "source": [
    "Given a function $f$ which is continuously derivable $n+1$ times, its nth-order taylor approximation around the point $x_0$ is given by\n",
    "$$P_n(x) = \\sum_{i=0}^n\\frac{f^{(n)}(x_0)}{i!}(x-x_0)^i,$$\n",
    "where $P_n(x)$ is a polynomial of degree $n$. It is well known that Taylor expansion gives a good approximation in a small neighbourhood around $x_0$. However it does not give any information on the approximation error."
   ],
   "metadata": {}
  },
  {
   "cell_type": "markdown",
   "source": [
    "`TaylorModels.jl` uses interval arithmetic to give a rigorous polynomial approximation of $f$ over the interval $[a, b]$. More formally, the rigorous approximation is given by the pair $(P_n(x), \\Delta)$, where\n",
    "- $P_n(x)$ is a polynomial of degree $n$, whose coefficients are intervals.\n",
    "- $\\Delta$ is the *interval remainder*, and it provides an estimate of all numerical errors (rounding, truncation) encoutered during Taylor expansion computation, i.e. it is guaranteed that $\\forall x\\in[a, b]:~|P(x)-f(x)|\\in\\Delta$."
   ],
   "metadata": {}
  },
  {
   "cell_type": "markdown",
   "source": [
    "## Taylor models for univariate function"
   ],
   "metadata": {}
  },
  {
   "cell_type": "markdown",
   "source": [
    "Let us now describe how to get the rigorous Taylor approximation for a function $f$ in an interval $a$ around the point $x_0$. Let us define our parameters"
   ],
   "metadata": {}
  },
  {
   "outputs": [],
   "cell_type": "code",
   "source": [
    "f(x) = x*(x-1.1)*(x+2)*(x+2.2)*(x+2.5)*(x+3)*sin(1.7*x+0.5)\n",
    "a = -0.5..1\n",
    "x0 = mid(a) # expansion around the middle point of the domain"
   ],
   "metadata": {},
   "execution_count": null
  },
  {
   "cell_type": "markdown",
   "source": [
    "To create a Taylor model of order $n$ in the interval $a$ around the point $x_0$ we need the function `TaylorModel1` from `TaylorModels.jl`, (note the 1 stands for 1 dimensional). The signature of this function is\n",
    "Note that `x_0` must be given as an interval, even though it is a single point. Observe the following example, where we create a Taylor approximation of order 6 and 7"
   ],
   "metadata": {}
  },
  {
   "outputs": [],
   "cell_type": "code",
   "source": [
    "tm6 = TaylorModel1(6, interval(x0), a)\n",
    "tm7 = TaylorModel1(7, interval(x0), a)\n",
    "@show tm6\n",
    "@show tm7"
   ],
   "metadata": {},
   "execution_count": null
  },
  {
   "cell_type": "markdown",
   "source": [
    "Now to compute the Taylor approximation of our functions we can simply give the previously constructed Taylor model to the function as input"
   ],
   "metadata": {}
  },
  {
   "outputs": [],
   "cell_type": "code",
   "source": [
    "ftm6 = f(tm6)\n",
    "ftm7 = f(tm7)\n",
    "@show ftm6\n",
    "@show ftm7"
   ],
   "metadata": {},
   "execution_count": null
  },
  {
   "cell_type": "markdown",
   "source": [
    "The last term of the expression is the interval remainder and the previous ones represent the Taylor polynomial.\n",
    "The result is an object of type `TaylorModel1` with the following attributes\n",
    "- `dom`: inverval over which the Taylor approximation is computed ($a$ in our example)\n",
    "- `pol`: polynomial approximation of the function\n",
    "- `rem`: interval remainder\n",
    "- `x0`: center of Taylor expansion ($x_0$ in our example)"
   ],
   "metadata": {}
  },
  {
   "cell_type": "markdown",
   "source": [
    "Now we can visualize how well our taylor model works using the plot function."
   ],
   "metadata": {}
  },
  {
   "outputs": [],
   "cell_type": "code",
   "source": [
    "using Plots\n",
    "plot(range(inf(a), stop=sup(a), length=1000), f, lw=2, xaxis=\"x\", yaxis=\"f(x)\", label=\"f(x)\")\n",
    "plot!(ftm6, label=\"6th order\")\n",
    "plot!(ftm7, label=\"7th order\")"
   ],
   "metadata": {},
   "execution_count": null
  },
  {
   "cell_type": "markdown",
   "source": [
    "As you can notice, the Taylor model produces a \"band\" around the function and the polynomial approximation is guaranteed to be somewhere inside that bar.\n",
    "As you may expect, the higher the order of the model, the narrower the band will be, as the following animation shows"
   ],
   "metadata": {}
  },
  {
   "outputs": [],
   "cell_type": "code",
   "source": [
    "orders = [1, 2, 3, 4, 5, 6, 7, 8, 9, 10]\n",
    "using Interact\n",
    "@manipulate for n in orders\n",
    "    tm = TaylorModel1(n, interval(x0), a)\n",
    "    ftm = f(tm)\n",
    "    plot(range(inf(a), stop=sup(a), length=1000), f, lw=2, xaxis=\"x\", yaxis=\"f(x)\", label=\"f(x)\")\n",
    "    plot!(ftm, title=\"$(n)th order\")\n",
    "end"
   ],
   "metadata": {},
   "execution_count": null
  },
  {
   "cell_type": "markdown",
   "source": [
    "---\n",
    "\n",
    "*This notebook was generated using [Literate.jl](https://github.com/fredrikekre/Literate.jl).*"
   ],
   "metadata": {}
  }
 ],
 "nbformat_minor": 3,
 "metadata": {
  "language_info": {
   "file_extension": ".jl",
   "mimetype": "application/julia",
   "name": "julia",
   "version": "1.5.0"
  },
  "kernelspec": {
   "name": "julia-1.5",
   "display_name": "Julia 1.5.0",
   "language": "julia"
  }
 },
 "nbformat": 4
}
