{
 "cells": [
  {
   "cell_type": "markdown",
   "source": [
    "# Interval optimisation tutorial"
   ],
   "metadata": {}
  },
  {
   "cell_type": "markdown",
   "source": [
    "## Setup"
   ],
   "metadata": {}
  },
  {
   "cell_type": "markdown",
   "source": [
    "The `IntervalOptimisation.jl` package can be installed with"
   ],
   "metadata": {}
  },
  {
   "cell_type": "markdown",
   "source": [
    "```julia-repl\n",
    "julia> using Pkg; Pkg.add(\"IntervalOptimisation\")\n",
    "```"
   ],
   "metadata": {}
  },
  {
   "cell_type": "markdown",
   "source": [
    "Once the package is installed, it can be imported. Note that you will need also the `IntervalArithmetic.jl` package."
   ],
   "metadata": {}
  },
  {
   "outputs": [],
   "cell_type": "code",
   "source": [
    "using IntervalArithmetic, IntervalOptimisation"
   ],
   "metadata": {},
   "execution_count": null
  },
  {
   "cell_type": "markdown",
   "source": [
    "## Function minimisation"
   ],
   "metadata": {}
  },
  {
   "cell_type": "markdown",
   "source": [
    "The package two main functions are `minimise` and `maximise`. Here we will use `minimise` as example, however `maximise` behaves in an analog way.\n",
    "The main syntax is\n",
    "```julia\n",
    "minimise(f, X, tol=1e-3),\n",
    "```"
   ],
   "metadata": {}
  },
  {
   "cell_type": "markdown",
   "source": [
    "where $f:\\mathbb{R}^n↦\\mathbb{R}$ is the function to minimize, $X$ is the interval, or interval box, over which we minimize the function.\n",
    "For example, let's consider the function $f(x)=(x-3)^2$ and let us find its global minimum over its whole domain"
   ],
   "metadata": {}
  },
  {
   "outputs": [],
   "cell_type": "code",
   "source": [
    "minimise(x->(x-3)^2, -∞..∞)"
   ],
   "metadata": {},
   "execution_count": null
  },
  {
   "cell_type": "markdown",
   "source": [
    "The first value of the results tells us that the minimum value of the function is in the interval $[0, 7.39292e-09]$. The second value tells us that\n",
    "this minimum is achieved in the interval $[2.99964, 3.00019]$. If we want to narrow down this interval, we can use a smaller tolerance"
   ],
   "metadata": {}
  },
  {
   "outputs": [],
   "cell_type": "code",
   "source": [
    "minVal, xmin = minimise(x->(x-3)^2, -∞..∞, tol=1e-9)\n",
    "xmin, [diam(x) for x in xmin]"
   ],
   "metadata": {},
   "execution_count": null
  },
  {
   "cell_type": "markdown",
   "source": [
    "Now the diameter of the minimiser is only $10^{-10}$ and the minimum is guaranteed to be in that interval."
   ],
   "metadata": {}
  },
  {
   "cell_type": "markdown",
   "source": [
    "## Multivariate function minimisation"
   ],
   "metadata": {}
  },
  {
   "cell_type": "markdown",
   "source": [
    "The package can also be used to minimise multivariate functions. Now, the function $f$ will take an array, and $X$ will be an interval box of dimension $n$.\n",
    "As an example, let us find the minimum of the paraboloid $z=(x-3)^2+(y-3)^2$ over the box $[-100, 100]×[-100, 100]$. First let's define the function"
   ],
   "metadata": {}
  },
  {
   "outputs": [],
   "cell_type": "code",
   "source": [
    "paraboloid(x) = (x[1]-3)^2 + (x[2]-3)^2"
   ],
   "metadata": {},
   "execution_count": null
  },
  {
   "cell_type": "markdown",
   "source": [
    "and our interval box"
   ],
   "metadata": {}
  },
  {
   "outputs": [],
   "cell_type": "code",
   "source": [
    "X = IntervalBox(-100..100, 2)"
   ],
   "metadata": {},
   "execution_count": null
  },
  {
   "cell_type": "markdown",
   "source": [
    "now we can obtain the minimum"
   ],
   "metadata": {}
  },
  {
   "outputs": [],
   "cell_type": "code",
   "source": [
    "zmin, xmin = minimise(paraboloid, X, tol=1e-10)"
   ],
   "metadata": {},
   "execution_count": null
  },
  {
   "cell_type": "markdown",
   "source": [
    "the position of the minimum has been found with an accuracy of"
   ],
   "metadata": {}
  },
  {
   "outputs": [],
   "cell_type": "code",
   "source": [
    "[diam(x) for x in xmin]"
   ],
   "metadata": {},
   "execution_count": null
  },
  {
   "cell_type": "markdown",
   "source": [
    "### Griewank function minimisation"
   ],
   "metadata": {}
  },
  {
   "cell_type": "markdown",
   "source": [
    "The $n$-dimensional Griewank function is defined as\n",
    "$$ G_n(\\mathbf{x})=1+\\frac{1}{4000}\\sum_{i=1}^n x_i^2 -∏_{i=1}^n \\cos\\left(\\frac{x_i}{\\sqrt{i}}\\right),$$"
   ],
   "metadata": {}
  },
  {
   "cell_type": "markdown",
   "source": [
    "for example the 1-dimensional Griewank function is"
   ],
   "metadata": {}
  },
  {
   "cell_type": "markdown",
   "source": [
    "$$ G_1(x) = 1+\\frac{x^2}{4000}-\\cos(x) $$."
   ],
   "metadata": {}
  },
  {
   "cell_type": "markdown",
   "source": [
    "and it is commonly used to test optimisation algorithms. This function has the property to have several regularly distributed local minima, but only one global minimum at the origin. Let's define our function"
   ],
   "metadata": {}
  },
  {
   "outputs": [],
   "cell_type": "code",
   "source": [
    "G(X) = 1 + sum(abs2, X) / 4000 - prod( cos(X[i] / √i) for i in 1:length(X) )"
   ],
   "metadata": {},
   "execution_count": null
  },
  {
   "cell_type": "markdown",
   "source": [
    "Now let's verify our package finds the minima in several dimensions"
   ],
   "metadata": {}
  },
  {
   "outputs": [],
   "cell_type": "code",
   "source": [
    "for N in (1,2, 10, 20, 50)\n",
    "    res, xmin = minimise(G, IntervalBox(-600..600, N))\n",
    "    @show N, res, diam(xmin[1])\n",
    "end"
   ],
   "metadata": {},
   "execution_count": null
  },
  {
   "cell_type": "markdown",
   "source": [
    "## Clustering problem"
   ],
   "metadata": {}
  },
  {
   "cell_type": "markdown",
   "source": [
    "The *clustering problem* is an issue arising in global optimisation with interval arithmetic.\n",
    "Let us consider a simple function"
   ],
   "metadata": {}
  },
  {
   "outputs": [],
   "cell_type": "code",
   "source": [
    "f(x) = x^2 - 2x + 1"
   ],
   "metadata": {},
   "execution_count": null
  },
  {
   "cell_type": "markdown",
   "source": [
    "You may recall that interval arithmetic suffers from the *dependency problem*, i.e. if the same\n",
    "variable is repeated in the expression (as in the example above) then evaluating the function will\n",
    "produce an overestimate. Observe"
   ],
   "metadata": {}
  },
  {
   "outputs": [],
   "cell_type": "code",
   "source": [
    "f(0..2)"
   ],
   "metadata": {},
   "execution_count": null
  },
  {
   "cell_type": "markdown",
   "source": [
    "using Interval arithmetic we obtain the range $[-3, 5]$, while the true range is $[0, 1]$.\n",
    "Suppose $x^*$ is a minimiser for $f$, then for an $\\epsilon$ small enough we will have that\n",
    "$f(x^*) \\in f([x^*+\\epsilon, x^*+2\\epsilon])$. Hence, close to the minimiser $x^*$ we will have\n",
    "intervals not containing $x^*$ that cannot be thrown away, because they seem to contain $f(x^*)$.\n",
    "Observe the following example"
   ],
   "metadata": {}
  },
  {
   "outputs": [],
   "cell_type": "code",
   "source": [
    "minval, minimisers = minimise(f, 0..2, tol=1e-3);\n",
    "@show length(minimisers)"
   ],
   "metadata": {},
   "execution_count": null
  },
  {
   "cell_type": "markdown",
   "source": [
    "The function returns $102$ minimisers, however only of these contains the true minimiser $x=1$.\n",
    "The following picture illustrates this"
   ],
   "metadata": {}
  },
  {
   "outputs": [],
   "cell_type": "code",
   "source": [
    "using Plots\n",
    "plot(f, 1-0.1, 1+0.1, lw=2)\n",
    "plot!(IntervalBox.(minimisers, f.(minimisers)), legend=false)"
   ],
   "metadata": {},
   "execution_count": null
  },
  {
   "cell_type": "markdown",
   "source": [
    "Using a stricter tolerance makes things worse, as we will keep bisecting those fake minimisers,\n",
    "obtaining more fake minimisers that cannot be thrown away, Observe"
   ],
   "metadata": {}
  },
  {
   "outputs": [],
   "cell_type": "code",
   "source": [
    "minval, minimisers = minimise(f, 0..2, tol=1e-6);\n",
    "@show length(minimisers)"
   ],
   "metadata": {},
   "execution_count": null
  },
  {
   "cell_type": "markdown",
   "source": [
    "How to solve this problem? A solution is the so called *mean-value form*, instead of computing\n",
    "f(X) with traditional interval arithmetic, we use the following formula"
   ],
   "metadata": {}
  },
  {
   "cell_type": "markdown",
   "source": [
    "$$ f(X) = f(m(X)) +f'(X)(X-m(X)) $$"
   ],
   "metadata": {}
  },
  {
   "cell_type": "markdown",
   "source": [
    "where $m(X)$ denotes the midpoint of $X$. It can be proved that the true range of $f(X)$ is\n",
    "enclosed into the mean value form. It can also be proved that the mean-value form overestimates\n",
    "reduces the overestimate. Let us define a function to compute the mean-value form, using ForwardDiff\n",
    "to compute the derivative"
   ],
   "metadata": {}
  },
  {
   "outputs": [],
   "cell_type": "code",
   "source": [
    "using ForwardDiff\n",
    "\n",
    "mean_value_form(f, X) = f(mid(X)) + ForwardDiff.derivative(f, X)*(X - mid(X))"
   ],
   "metadata": {},
   "execution_count": null
  },
  {
   "cell_type": "markdown",
   "source": [
    "Now let us try to minimise the function using the mean-value form"
   ],
   "metadata": {}
  },
  {
   "outputs": [],
   "cell_type": "code",
   "source": [
    "minval, minimisers = minimise(X -> mean_value_form(f, X), 0..2, tol=1e-6);\n",
    "@show length(minimisers)\n",
    "@show minimisers"
   ],
   "metadata": {},
   "execution_count": null
  },
  {
   "cell_type": "markdown",
   "source": [
    "As you can see, the number of minimisers has been reduced from 2990 to 2!"
   ],
   "metadata": {}
  },
  {
   "cell_type": "markdown",
   "source": [
    "---\n",
    "\n",
    "*This notebook was generated using [Literate.jl](https://github.com/fredrikekre/Literate.jl).*"
   ],
   "metadata": {}
  }
 ],
 "nbformat_minor": 3,
 "metadata": {
  "language_info": {
   "file_extension": ".jl",
   "mimetype": "application/julia",
   "name": "julia",
   "version": "1.5.0"
  },
  "kernelspec": {
   "name": "julia-1.5",
   "display_name": "Julia 1.5.0",
   "language": "julia"
  }
 },
 "nbformat": 4
}
