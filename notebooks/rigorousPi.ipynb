{
 "cells": [
  {
   "cell_type": "markdown",
   "source": [
    "# Calculating rigorous bounds on $\\pi$ with interval arithmetic"
   ],
   "metadata": {}
  },
  {
   "cell_type": "markdown",
   "source": [
    "## Introduction"
   ],
   "metadata": {}
  },
  {
   "cell_type": "markdown",
   "source": [
    "Following the book Validated Numerics (Princeton, 2011) by Warwick Tucker, we find *rigorous* (i.e., guaranteed, or validated) bounds on $\\pi$ using interval arithmetic, via the `IntervalArithmetic.jl` package."
   ],
   "metadata": {}
  },
  {
   "cell_type": "markdown",
   "source": [
    "First, we need to import the package"
   ],
   "metadata": {}
  },
  {
   "outputs": [],
   "cell_type": "code",
   "source": [
    "using IntervalArithmetic"
   ],
   "metadata": {},
   "execution_count": 1
  },
  {
   "cell_type": "markdown",
   "source": [
    "## Calculating $\\pi$ via a simple sum"
   ],
   "metadata": {}
  },
  {
   "cell_type": "markdown",
   "source": [
    "There are many ways to calculate $\\pi$. For illustrative purposes, we will use the following sum"
   ],
   "metadata": {}
  },
  {
   "cell_type": "markdown",
   "source": [
    "$$ S = \\sum_{n=1}^\\infty \\frac{1}{n^2}.$$\n",
    "It is [known](https://en.wikipedia.org/wiki/Basel_problem) that the exact value is $S = \\frac{\\pi^2}{6}$. Thus, if we can calculate rigorous bounds on $S$, then we can find rigorous bounds on $\\pi$."
   ],
   "metadata": {}
  },
  {
   "cell_type": "markdown",
   "source": [
    "The idea is to split $S$ up into two parts, $S = S_N + T_N$, with $ S_N = \\sum_{n=1}^N \\frac{1}{n^2}$ and $T_N = S - S_N = \\sum_{n=N+1}^\\infty n^{-2}$."
   ],
   "metadata": {}
  },
  {
   "cell_type": "markdown",
   "source": [
    "By bounding $T_N$ using integrals from below and above, we can see that $\\frac{1}{N+1} \\le T_N \\le \\frac{1}{N}$. Rigorous bounds on $S_N$ are found by calculating it using interval arithmetic."
   ],
   "metadata": {}
  },
  {
   "cell_type": "markdown",
   "source": [
    "$S_N$ may be calculated by summing either forwards or backwards. A naive (non-interval) version could be the following:"
   ],
   "metadata": {}
  },
  {
   "outputs": [
    {
     "output_type": "execute_result",
     "data": {
      "text/plain": "forward_sum_naive (generic function with 1 method)"
     },
     "metadata": {},
     "execution_count": 2
    }
   ],
   "cell_type": "code",
   "source": [
    "function forward_sum_naive(N)\n",
    "    S_N = 0.0\n",
    "\n",
    "    for i in 1:N\n",
    "        S_N += 1. / (i^2)\n",
    "    end\n",
    "\n",
    "    S_N\n",
    "end"
   ],
   "metadata": {},
   "execution_count": 2
  },
  {
   "outputs": [
    {
     "name": "stdout",
     "output_type": "stream",
     "text": [
      "(S, err) = (1.6448340718480652, 9.999500016122376e-5)\n"
     ]
    },
    {
     "output_type": "execute_result",
     "data": {
      "text/plain": "(1.6448340718480652, 9.999500016122376e-5)"
     },
     "metadata": {},
     "execution_count": 3
    }
   ],
   "cell_type": "code",
   "source": [
    "S = forward_sum_naive(10000)\n",
    "err = abs(S - pi^2/6.)  # error\n",
    "@show S, err"
   ],
   "metadata": {},
   "execution_count": 3
  },
  {
   "cell_type": "markdown",
   "source": [
    "## Interval Method"
   ],
   "metadata": {}
  },
  {
   "cell_type": "markdown",
   "source": [
    "To find rigorous bounds for $S_N$, we use interval arithmetic: each term is enclosed in an interval that is guaranteed to contain the true real value. A first idea is simply to wrap each term in the @interval macro, which converts its arguments into containing intervals:"
   ],
   "metadata": {}
  },
  {
   "outputs": [
    {
     "name": "stdout",
     "output_type": "stream",
     "text": [
      "  4.210988 seconds (25.58 M allocations: 929.596 MiB, 8.44% gc time)\n"
     ]
    },
    {
     "output_type": "execute_result",
     "data": {
      "text/plain": "[1.64492, 1.64493]"
     },
     "metadata": {},
     "execution_count": 4
    }
   ],
   "cell_type": "code",
   "source": [
    "function forward_S_N(N)\n",
    "    S_N = @interval(0.0)\n",
    "\n",
    "    for i in 1:N\n",
    "        S_N += @interval( 1. /(i^2) )\n",
    "    end\n",
    "    S_N\n",
    "end\n",
    "\n",
    "N = 10^5\n",
    "@time rigorous_approx_S_N = forward_S_N(N)"
   ],
   "metadata": {},
   "execution_count": 4
  },
  {
   "cell_type": "markdown",
   "source": [
    "We incorporate the respective bound on $T_N$ to obtain the bounds on $S$, and hence on $\\pi$. We can also optimize the code by creating the interval `@interval(1)` only once:"
   ],
   "metadata": {}
  },
  {
   "outputs": [
    {
     "name": "stdout",
     "output_type": "stream",
     "text": [
      "  1.507089 seconds (18.66 M allocations: 629.142 MiB, 6.89% gc time)\n",
      "(S, diam(S)) = ([3.14159, 3.1416], 2.1298829366855898e-10)\n"
     ]
    },
    {
     "output_type": "execute_result",
     "data": {
      "text/plain": "([3.14159, 3.1416], 2.1298829366855898e-10)"
     },
     "metadata": {},
     "execution_count": 5
    }
   ],
   "cell_type": "code",
   "source": [
    "function forward_sum(N)\n",
    "    S_N = @interval(0.0)\n",
    "    interval_one = @interval(1.)\n",
    "\n",
    "    for i in 1:N\n",
    "        S_N += interval_one / (i^2)\n",
    "    end\n",
    "\n",
    "    T_N = interval_one / @interval(N, N+1)\n",
    "    S = S_N + T_N\n",
    "\n",
    "    sqrt(6*S)\n",
    "end\n",
    "\n",
    "N = 10^6\n",
    "@time S = forward_sum(N)\n",
    "@show S, diam(S)"
   ],
   "metadata": {},
   "execution_count": 5
  },
  {
   "cell_type": "markdown",
   "source": [
    "We can ask for the midpoint--radius representation, which shows that the calculated bounds are correct to around 10 decimal places:"
   ],
   "metadata": {}
  },
  {
   "outputs": [
    {
     "output_type": "execute_result",
     "data": {
      "text/plain": "(3.14159265358984, 1.0649436887888442e-10)"
     },
     "metadata": {},
     "execution_count": 6
    }
   ],
   "cell_type": "code",
   "source": [
    "midpoint_radius(S)"
   ],
   "metadata": {},
   "execution_count": 6
  },
  {
   "cell_type": "markdown",
   "source": [
    "We may check that the true value of $\\pi$ is indeed contained in the interval:"
   ],
   "metadata": {}
  },
  {
   "outputs": [
    {
     "output_type": "execute_result",
     "data": {
      "text/plain": "true"
     },
     "metadata": {},
     "execution_count": 7
    }
   ],
   "cell_type": "code",
   "source": [
    "big(π) ∈ S"
   ],
   "metadata": {},
   "execution_count": 7
  },
  {
   "cell_type": "markdown",
   "source": [
    "We may repeat the calculation, but now summing in the opposite direction. Due to the way that floating-point arithmetic works, this gives a more accurate answer."
   ],
   "metadata": {}
  },
  {
   "outputs": [
    {
     "name": "stdout",
     "output_type": "stream",
     "text": [
      "  1.616554 seconds (15.03 M allocations: 474.568 MiB, 5.79% gc time)\n",
      "(S, diam(S)) = ([3.14159, 3.1416], 9.57456336436735e-13)\n"
     ]
    },
    {
     "output_type": "execute_result",
     "data": {
      "text/plain": "([3.14159, 3.1416], 9.57456336436735e-13)"
     },
     "metadata": {},
     "execution_count": 8
    }
   ],
   "cell_type": "code",
   "source": [
    "function reverse_sum(N)\n",
    "    S_N = @interval(0.0)\n",
    "    interval_one = @interval(1.)\n",
    "\n",
    "    for i in N:-1:1\n",
    "        S_N += interval_one / (i^2)\n",
    "    end\n",
    "\n",
    "    T_N = interval_one / @interval(N, N+1)\n",
    "    S = S_N + T_N\n",
    "\n",
    "    sqrt(6*S)\n",
    "end\n",
    "\n",
    "N = 10^6\n",
    "@time S = reverse_sum(N)\n",
    "@show S, diam(S)"
   ],
   "metadata": {},
   "execution_count": 8
  },
  {
   "cell_type": "markdown",
   "source": [
    "Note that the sqrt function is guaranteed (by the [IEEE 754](https://en.wikipedia.org/wiki/IEEE_754) standard) to give correctly-rounded results, so the resulting bounds on $\\pi$ are guaranteed to be correct."
   ],
   "metadata": {}
  },
  {
   "cell_type": "markdown",
   "source": [
    "Note also that due to the way that the IntervalArithmetic package works, we can make the code simpler, at the expense of some performance. Only two explicit calls to the `@interval` macro are now required:"
   ],
   "metadata": {}
  },
  {
   "outputs": [
    {
     "name": "stdout",
     "output_type": "stream",
     "text": [
      "  0.149593 seconds (2.06 M allocations: 48.598 MiB, 7.21% gc time)\n",
      "(S, diam(S)) = ([3.14159, 3.1416], 9.57456336436735e-13)\n"
     ]
    },
    {
     "output_type": "execute_result",
     "data": {
      "text/plain": "([3.14159, 3.1416], 9.57456336436735e-13)"
     },
     "metadata": {},
     "execution_count": 9
    }
   ],
   "cell_type": "code",
   "source": [
    "function reverse_sum2(N)\n",
    "    S_N = @interval(0.0)\n",
    "\n",
    "    for i in N:-1:1\n",
    "        S_N += 1 / (i^2)\n",
    "    end\n",
    "\n",
    "    T_N = 1 / @interval(N, N+1)\n",
    "    S = S_N + T_N\n",
    "\n",
    "    sqrt(6*S)\n",
    "end\n",
    "\n",
    "N = 10^6\n",
    "@time S = reverse_sum2(N)\n",
    "@show S, diam(S)"
   ],
   "metadata": {},
   "execution_count": 9
  },
  {
   "cell_type": "markdown",
   "source": [
    "---\n",
    "\n",
    "*This notebook was generated using [Literate.jl](https://github.com/fredrikekre/Literate.jl).*"
   ],
   "metadata": {}
  }
 ],
 "nbformat_minor": 3,
 "metadata": {
  "language_info": {
   "file_extension": ".jl",
   "mimetype": "application/julia",
   "name": "julia",
   "version": "1.4.0"
  },
  "kernelspec": {
   "name": "julia-1.4",
   "display_name": "Julia 1.4.0",
   "language": "julia"
  }
 },
 "nbformat": 4
}
