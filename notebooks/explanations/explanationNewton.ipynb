{
 "cells": [
  {
   "cell_type": "markdown",
   "source": [
    "# Interval Newton method for root finding"
   ],
   "metadata": {}
  },
  {
   "cell_type": "markdown",
   "source": [
    "## Introduction"
   ],
   "metadata": {}
  },
  {
   "cell_type": "markdown",
   "source": [
    "This page will explain you how to generalize the traditional Newton method for root-finding\n",
    "to deal with intervals. Basically, here you will get a taste of what happens under the hood\n",
    "in the `IntervalRootFinding` when the newton method is used."
   ],
   "metadata": {}
  },
  {
   "cell_type": "markdown",
   "source": [
    "## Review: traditional Newton method"
   ],
   "metadata": {}
  },
  {
   "cell_type": "markdown",
   "source": [
    "It is well know from high-school or undergraduate studies that given an initial guess $x_0$ for the\n",
    "root of a function $f$, the root can be found iteratively with the upgrade rule"
   ],
   "metadata": {}
  },
  {
   "cell_type": "markdown",
   "source": [
    "$$\n",
    "x_{k+1} = x_k - \\frac{f(x_k)}{f'(x_k)},\n",
    "$$"
   ],
   "metadata": {}
  },
  {
   "cell_type": "markdown",
   "source": [
    "which is known as Newton method. Geometrically, the Newton method is equivalent to the following\n",
    "geometrical construction, visualized in the animation below"
   ],
   "metadata": {}
  },
  {
   "cell_type": "markdown",
   "source": [
    "1. Draw the tangent to $f$ passing through the point $(x_k, f(x_k))$\n",
    "2. The new point $x_{k+1}$ will be the root of the tangent line."
   ],
   "metadata": {}
  },
  {
   "outputs": [],
   "cell_type": "code",
   "source": [
    "using Plots\n",
    "f(x) = x^3 + 4x^2 + x - 6\n",
    "\n",
    "plot(f, -2, 2, leg=false)"
   ],
   "metadata": {},
   "execution_count": null
  },
  {
   "cell_type": "markdown",
   "source": [
    "---\n",
    "\n",
    "*This notebook was generated using [Literate.jl](https://github.com/fredrikekre/Literate.jl).*"
   ],
   "metadata": {}
  }
 ],
 "nbformat_minor": 3,
 "metadata": {
  "language_info": {
   "file_extension": ".jl",
   "mimetype": "application/julia",
   "name": "julia",
   "version": "1.5.0"
  },
  "kernelspec": {
   "name": "julia-1.5",
   "display_name": "Julia 1.5.0",
   "language": "julia"
  }
 },
 "nbformat": 4
}
