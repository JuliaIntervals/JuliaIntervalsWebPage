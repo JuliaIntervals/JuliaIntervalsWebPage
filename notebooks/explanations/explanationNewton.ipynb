{
 "cells": [
  {
   "cell_type": "markdown",
   "source": [
    "# Interval Newton method for root finding"
   ],
   "metadata": {}
  },
  {
   "cell_type": "markdown",
   "source": [
    "## Introduction"
   ],
   "metadata": {}
  },
  {
   "cell_type": "markdown",
   "source": [
    "This page will explain you how to generalize the traditional Newton method for root-finding\n",
    "to deal with intervals. Basically, here you will get a taste of what happens under the hood\n",
    "in the `IntervalRootFinding` when the Newton method is used. First, let us import the packages we will need"
   ],
   "metadata": {}
  },
  {
   "outputs": [],
   "cell_type": "code",
   "source": [
    "using IntervalArithmetic, ForwardDiff, Plots"
   ],
   "metadata": {},
   "execution_count": null
  },
  {
   "cell_type": "markdown",
   "source": [
    "## Review: traditional Newton method"
   ],
   "metadata": {}
  },
  {
   "cell_type": "markdown",
   "source": [
    "It is well known from high-school or undergraduate studies that given an initial guess $x_0$ for the\n",
    "root of a function $f$, the root can be found iteratively with the upgrade rule"
   ],
   "metadata": {}
  },
  {
   "cell_type": "markdown",
   "source": [
    "$$\n",
    "x_{k+1} = x_k - \\frac{f(x_k)}{f'(x_k)},\n",
    "$$"
   ],
   "metadata": {}
  },
  {
   "cell_type": "markdown",
   "source": [
    "which is known as Newton method. This has also the following geoemtrical interpretation:"
   ],
   "metadata": {}
  },
  {
   "cell_type": "markdown",
   "source": [
    "1. Draw the tangent to $f$ passing through the point $(x_k, f(x_k))$\n",
    "2. The new point $x_{k+1}$ will be the root of the tangent line."
   ],
   "metadata": {}
  },
  {
   "cell_type": "markdown",
   "source": [
    "Let us demonstrate this with a simple example suppose we want to find the root of the function\n",
    "$f(x) = atan(\\frac{x}{2})$ using $x_0=2.5$ as initial guess. The following animation shows the Newton method in action.\n",
    "Note that the derivative can be computed using the `ForwardDiff` package"
   ],
   "metadata": {}
  },
  {
   "outputs": [],
   "cell_type": "code",
   "source": [
    "f(x) = atan(x/2)\n",
    "x0 = 2.5\n",
    "y0 = f(x0)\n",
    "d(f, x) = ForwardDiff.derivative(f, x)\n",
    "\n",
    "xk = 2.5\n",
    "yk = f(xk)\n",
    "\n",
    "anim = @animate for i in 1:5\n",
    "    xnew = xk - yk/d(f, xk)\n",
    "    ynew = f(xnew)\n",
    "    scatter([xk], [0]; markersize=5, markershape=:circle, c=:black, label=\"\\$ x_k\\$\")\n",
    "    plot!([xk, xk], [0, yk], linestyle=:dash, color=:black, label=nothing)\n",
    "    plot!([xnew, xk], [0, yk], color=:black, label=nothing)\n",
    "    scatter!([xnew], [0], color=:blue, markersize=5, label=\"\\$x_{k+1}\\$\")\n",
    "    plot!(f, -10, 10, label=\"\\$f(x)\\$\", c=:red, legend=:right, legendfont=12, xlims=(-5, 5))\n",
    "    global xk, yk = xnew, ynew\n",
    "end\n",
    "\n",
    "gif(anim, \"newton.gif\", fps=0.8)\n",
    "@show xk, yk"
   ],
   "metadata": {},
   "execution_count": null
  },
  {
   "cell_type": "markdown",
   "source": [
    "After $5$ iterations the absolute error is already in the magnitude $10^{-8}$. If the initial\n",
    "guess $x_0$ is close enough to the correct root, then the Newton method can give a fast and accurate\n",
    "solution. However, it has no information about the error. This motives to find a generalized interval version."
   ],
   "metadata": {}
  },
  {
   "cell_type": "markdown",
   "source": [
    "## Interval Newton method in 1D"
   ],
   "metadata": {}
  },
  {
   "cell_type": "markdown",
   "source": [
    "Suppose we want to find the roots of a function $f$ over the interval $X$. Let us take as initial\n",
    "guess the the midpoint of $X$ $m(X)$. The core idea is now to consider all possible slopes a\n",
    "tangent line to $f$ in $X$ can have, instead of just the tangent at $m(X)$. This means we define the *Newton operator*"
   ],
   "metadata": {}
  },
  {
   "cell_type": "markdown",
   "source": [
    "$$  N_f(X) = m(X) - \\frac{f(m(X))}{f'(X)} $$"
   ],
   "metadata": {}
  },
  {
   "cell_type": "markdown",
   "source": [
    "where $f'(X)$ takes into acount all possible slopes the tangent can have in $X$. As an example, consider\n",
    "the function $f(x)=atan(\\frac{x}{2})$ with starting interval $X=[-1,5]$. Observe the following figure"
   ],
   "metadata": {}
  },
  {
   "outputs": [],
   "cell_type": "code",
   "source": [
    "X = -1..5\n",
    "N(f, X) = mid(X) - f(mid(X))/d(f, X)\n",
    "X = -1..5\n",
    "\n",
    "Nx = N(f, X)\n",
    "Xnext = Nx ∩ X\n",
    "\n",
    "x0 = mid(X)\n",
    "y0 = f(x0)\n",
    "offset = 5e-2\n",
    "plot([X.lo, X.hi], [-offset, -offset], label=\"\\$X\\$\", c=:green, lw=2)\n",
    "scatter!([x0], [-offset]; markersize=5, markershape=:circle, c=:black, label=nothing)\n",
    "plot!([x0, x0], [-offset, y0], linestyle=:dash, color=:black, label=nothing)\n",
    "\n",
    "deriv = d(f, X)\n",
    "for m in range(deriv.lo, deriv.hi, length=100) # plot cone\n",
    "    plot!([x0-y0/m, x0], [offset, y0], color=:gray, label=nothing, alpha=0.5)\n",
    "end\n",
    "plot!([Nx.lo, Nx.hi], [offset, offset], label=\"\\$N(X)\\$\", c=:blue, lw=2)\n",
    "plot!([Xnext.lo, Xnext.hi], [0, 0], label=\"\\$N(x) \\\\cap X\\$\", c=:black, lw=3)\n",
    "plot!(f, -10, 10, label=\"\\$f(x)\\$\", c=:red, legend=:right)\n",
    "plot!(legend=:bottomright, legendfont=12)"
   ],
   "metadata": {},
   "execution_count": null
  },
  {
   "cell_type": "markdown",
   "source": [
    "The green interval represents our starting interval. The gray area is the cone containing all lines passing through\n",
    "(m(X), f(m(X))) with slope in $f'(X)$. The blue interval is $N_f(X)$. Now, since we new the root has to been contained both\n",
    "in $X$ and in $N_f(X)$, we can conclude that the root must lie in $X \\cap N_f(X)$, which is highlighted in dark\n",
    "in the figure. As you can notice, we squeezed the starting interval to a smaller one, which is guaranteed to contain the root.\n",
    "We are now ready to present the iteration of the interval newton method"
   ],
   "metadata": {}
  },
  {
   "cell_type": "markdown",
   "source": [
    "$$ X_{k+1} = (m(X_k) - \\frac{m(X_k)}{f'(X_k)}) \\cap X_k $$"
   ],
   "metadata": {}
  },
  {
   "cell_type": "markdown",
   "source": [
    "Now the following important theorem holds"
   ],
   "metadata": {}
  },
  {
   "cell_type": "markdown",
   "source": [
    "**Theorem** if $0 \\notin f'(X)$, then the intervals $X_k$ form a nested sequence squeezing quadratically to the root of $f$."
   ],
   "metadata": {}
  },
  {
   "cell_type": "markdown",
   "source": [
    "Note that the condition $0 \\notin f'(X)$ implies that either $f$ has a unique root in $X$ or no roots at all. An equivalent expression for this theorem is the following:\n",
    "- If $N_f(X)\\subseteq X$, then $X$ has a unique root\n",
    "- if $N_f(X)\\cap X=\\emptyset$, then $f$ has no root in $X$.\n",
    "The following animation shows the Newton method in action with our example from before"
   ],
   "metadata": {}
  },
  {
   "outputs": [],
   "cell_type": "code",
   "source": [
    "function newton_iteration(f, df, X)\n",
    "    m = @interval mid(X)\n",
    "    return (m - f(m)/df(X)) ∩ X\n",
    "end\n",
    "\n",
    "xk = X\n",
    "df(x) = d(f, x)\n",
    "anim = @animate for i in 1:4\n",
    "    zerobox = IntervalBox(xk, f(X))\n",
    "    plot(zerobox)\n",
    "    plot!(f, -1, 1, c=:red, xlims=(-1,1), legend=nothing)\n",
    "    global xk = newton_iteration(f, df, xk)\n",
    "    @show xk\n",
    "end\n",
    "\n",
    "gif(anim, \"interval_newton.gif\", fps=0.8)"
   ],
   "metadata": {},
   "execution_count": null
  },
  {
   "cell_type": "markdown",
   "source": [
    "As you can see, after only $4$ iterations the interval has already shrunk to an interval of\n",
    "width $10^{-15}$, which is guaranteed to contain the true value of the root."
   ],
   "metadata": {}
  },
  {
   "cell_type": "markdown",
   "source": [
    "We have seen that the Newton method is very powerful when $0\\notin f'(X)$, but what if this condition is not met?\n",
    "If $0\\in f'(X)$, then division by zero occurs. This means that using traditional interval arithmetic the ratio\n",
    "$\\frac{f(m(X))}{f'(X)}$ will be $[-\\infty, \\infty]$, which is not very useful. To overcome this problem we exploit\n",
    "*extended division*, suppose $0\\in f'(X_k)=Y=[\\underline{Y}, \\overline{Y}] $, then we consider the two intervals\n",
    "$Y_1=[\\underline{Y},0]$ and $Y_2=[0,\\overline{Y}]$. Then we apply the update formula using both intervals obtaining the two\n",
    "intervals\n",
    "$$ X_{k+1}^a=\\left(m(X_k) - \\frac{m(X_k)}{Y_1}\\right) \\cap X_k $$\n",
    "$$ X_{k+1}^b=\\left(m(X_k) - \\frac{m(X_k)}{Y_2}\\right) \\cap X_k $$"
   ],
   "metadata": {}
  },
  {
   "cell_type": "markdown",
   "source": [
    "and then repeat Newton iteration with extended division to both interals. Hence, in the worst-case scenario\n",
    "we will double the number of intervals to track. If at some point we have $X_k=\\emptyset$, then we can conclude it has\n",
    "no roots and it can bo thrown away. If $N_f(X_k)\\subseteq X_k$, then the root is unique and we do not need to split the\n",
    "interval with extended division anymore."
   ],
   "metadata": {}
  },
  {
   "cell_type": "markdown",
   "source": [
    "## Generalization to higher dimensions"
   ],
   "metadata": {}
  },
  {
   "cell_type": "markdown",
   "source": [
    "The Interval Newton method can be generalized to higher dimensions replacing the derivative with the Jacobian. Suppose you want\n",
    "to solve the system $F(\\mathbf{x})=\\mathbf{0}$, where $F:\\mathbb{R}^n\\rightarrow\\mathbb{R}^n$. Now the update formula for interval Newton is"
   ],
   "metadata": {}
  },
  {
   "cell_type": "markdown",
   "source": [
    "$$ X_{k+1} = m(X_k) - J(X_k)^{-1}F(m(X_k)), $$"
   ],
   "metadata": {}
  },
  {
   "cell_type": "markdown",
   "source": [
    "where $X_k$ is now an interval box."
   ],
   "metadata": {}
  },
  {
   "cell_type": "markdown",
   "source": [
    "---\n",
    "\n",
    "*This notebook was generated using [Literate.jl](https://github.com/fredrikekre/Literate.jl).*"
   ],
   "metadata": {}
  }
 ],
 "nbformat_minor": 3,
 "metadata": {
  "language_info": {
   "file_extension": ".jl",
   "mimetype": "application/julia",
   "name": "julia",
   "version": "1.5.0"
  },
  "kernelspec": {
   "name": "julia-1.5",
   "display_name": "Julia 1.5.0",
   "language": "julia"
  }
 },
 "nbformat": 4
}
